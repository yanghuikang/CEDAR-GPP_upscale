{
 "cells": [
  {
   "cell_type": "markdown",
   "metadata": {},
   "source": [
    "### Train and save an ensemble of models\n",
    "Generate model ensemble based on bootstrapping samples"
   ]
  },
  {
   "cell_type": "code",
   "execution_count": 1,
   "metadata": {},
   "outputs": [
    {
     "name": "stdout",
     "output_type": "stream",
     "text": [
      "load model_evaluation\n"
     ]
    }
   ],
   "source": [
    "import warnings\n",
    "warnings.simplefilter(action='ignore', category=FutureWarning)\n",
    "\n",
    "import pandas as pd\n",
    "import time\n",
    "import random\n",
    "from sklearn.model_selection import StratifiedGroupKFold\n",
    "import xgboost as xgb\n",
    "import numpy as np\n",
    "import xarray as xr\n",
    "import dask.dataframe as dd\n",
    "from dask.distributed import Client, LocalCluster, wait\n",
    "from dask_ml.preprocessing import DummyEncoder\n",
    "\n",
    "# set temperary directory for data spill to scratch, otherwise by default data will spill to the home directory\n",
    "import dask\n",
    "dask.config.set({'temporary_directory': '/global/scratch/users/yanghuikang/upscale/data/temp'})\n",
    "\n",
    "import sys\n",
    "sys.path.insert(0, '../utility')\n",
    "import model_evaluation as me\n",
    "import model_config as mcf"
   ]
  },
  {
   "cell_type": "code",
   "execution_count": 2,
   "metadata": {},
   "outputs": [],
   "source": [
    "%load_ext autoreload\n",
    "%autoreload 2"
   ]
  },
  {
   "cell_type": "code",
   "execution_count": 3,
   "metadata": {},
   "outputs": [
    {
     "data": {
      "text/html": [
       "<div>\n",
       "    <div style=\"width: 24px; height: 24px; background-color: #e1e1e1; border: 3px solid #9D9D9D; border-radius: 5px; position: absolute;\"> </div>\n",
       "    <div style=\"margin-left: 48px;\">\n",
       "        <h3 style=\"margin-bottom: 0px;\">Client</h3>\n",
       "        <p style=\"color: #9D9D9D; margin-bottom: 0px;\">Client-9070b929-605e-11ed-86bd-6c2b597f5190</p>\n",
       "        <table style=\"width: 100%; text-align: left;\">\n",
       "\n",
       "        <tr>\n",
       "        \n",
       "            <td style=\"text-align: left;\"><strong>Connection method:</strong> Cluster object</td>\n",
       "            <td style=\"text-align: left;\"><strong>Cluster type:</strong> distributed.LocalCluster</td>\n",
       "        \n",
       "        </tr>\n",
       "\n",
       "        \n",
       "            <tr>\n",
       "                <td style=\"text-align: left;\">\n",
       "                    <strong>Dashboard: </strong> <a href=\"http://10.0.7.89:8787/status\" target=\"_blank\">http://10.0.7.89:8787/status</a>\n",
       "                </td>\n",
       "                <td style=\"text-align: left;\"></td>\n",
       "            </tr>\n",
       "        \n",
       "\n",
       "        </table>\n",
       "\n",
       "        \n",
       "            <details>\n",
       "            <summary style=\"margin-bottom: 20px;\"><h3 style=\"display: inline;\">Cluster Info</h3></summary>\n",
       "            <div class=\"jp-RenderedHTMLCommon jp-RenderedHTML jp-mod-trusted jp-OutputArea-output\">\n",
       "    <div style=\"width: 24px; height: 24px; background-color: #e1e1e1; border: 3px solid #9D9D9D; border-radius: 5px; position: absolute;\">\n",
       "    </div>\n",
       "    <div style=\"margin-left: 48px;\">\n",
       "        <h3 style=\"margin-bottom: 0px; margin-top: 0px;\">LocalCluster</h3>\n",
       "        <p style=\"color: #9D9D9D; margin-bottom: 0px;\">0ab4b2f2</p>\n",
       "        <table style=\"width: 100%; text-align: left;\">\n",
       "            <tr>\n",
       "                <td style=\"text-align: left;\">\n",
       "                    <strong>Dashboard:</strong> <a href=\"http://10.0.7.89:8787/status\" target=\"_blank\">http://10.0.7.89:8787/status</a>\n",
       "                </td>\n",
       "                <td style=\"text-align: left;\">\n",
       "                    <strong>Workers:</strong> 8\n",
       "                </td>\n",
       "            </tr>\n",
       "            <tr>\n",
       "                <td style=\"text-align: left;\">\n",
       "                    <strong>Total threads:</strong> 32\n",
       "                </td>\n",
       "                <td style=\"text-align: left;\">\n",
       "                    <strong>Total memory:</strong> 89.84 GiB\n",
       "                </td>\n",
       "            </tr>\n",
       "            \n",
       "            <tr>\n",
       "    <td style=\"text-align: left;\"><strong>Status:</strong> running</td>\n",
       "    <td style=\"text-align: left;\"><strong>Using processes:</strong> True</td>\n",
       "</tr>\n",
       "\n",
       "            \n",
       "        </table>\n",
       "\n",
       "        <details>\n",
       "            <summary style=\"margin-bottom: 20px;\">\n",
       "                <h3 style=\"display: inline;\">Scheduler Info</h3>\n",
       "            </summary>\n",
       "\n",
       "            <div style=\"\">\n",
       "    <div>\n",
       "        <div style=\"width: 24px; height: 24px; background-color: #FFF7E5; border: 3px solid #FF6132; border-radius: 5px; position: absolute;\"> </div>\n",
       "        <div style=\"margin-left: 48px;\">\n",
       "            <h3 style=\"margin-bottom: 0px;\">Scheduler</h3>\n",
       "            <p style=\"color: #9D9D9D; margin-bottom: 0px;\">Scheduler-acf9d6bc-9cdb-4580-a793-ba9c9ce1e2ca</p>\n",
       "            <table style=\"width: 100%; text-align: left;\">\n",
       "                <tr>\n",
       "                    <td style=\"text-align: left;\">\n",
       "                        <strong>Comm:</strong> tcp://10.0.7.89:40453\n",
       "                    </td>\n",
       "                    <td style=\"text-align: left;\">\n",
       "                        <strong>Workers:</strong> 8\n",
       "                    </td>\n",
       "                </tr>\n",
       "                <tr>\n",
       "                    <td style=\"text-align: left;\">\n",
       "                        <strong>Dashboard:</strong> <a href=\"http://10.0.7.89:8787/status\" target=\"_blank\">http://10.0.7.89:8787/status</a>\n",
       "                    </td>\n",
       "                    <td style=\"text-align: left;\">\n",
       "                        <strong>Total threads:</strong> 32\n",
       "                    </td>\n",
       "                </tr>\n",
       "                <tr>\n",
       "                    <td style=\"text-align: left;\">\n",
       "                        <strong>Started:</strong> Just now\n",
       "                    </td>\n",
       "                    <td style=\"text-align: left;\">\n",
       "                        <strong>Total memory:</strong> 89.84 GiB\n",
       "                    </td>\n",
       "                </tr>\n",
       "            </table>\n",
       "        </div>\n",
       "    </div>\n",
       "\n",
       "    <details style=\"margin-left: 48px;\">\n",
       "        <summary style=\"margin-bottom: 20px;\">\n",
       "            <h3 style=\"display: inline;\">Workers</h3>\n",
       "        </summary>\n",
       "\n",
       "        \n",
       "        <div style=\"margin-bottom: 20px;\">\n",
       "            <div style=\"width: 24px; height: 24px; background-color: #DBF5FF; border: 3px solid #4CC9FF; border-radius: 5px; position: absolute;\"> </div>\n",
       "            <div style=\"margin-left: 48px;\">\n",
       "            <details>\n",
       "                <summary>\n",
       "                    <h4 style=\"margin-bottom: 0px; display: inline;\">Worker: 0</h4>\n",
       "                </summary>\n",
       "                <table style=\"width: 100%; text-align: left;\">\n",
       "                    <tr>\n",
       "                        <td style=\"text-align: left;\">\n",
       "                            <strong>Comm: </strong> tcp://10.0.7.89:33706\n",
       "                        </td>\n",
       "                        <td style=\"text-align: left;\">\n",
       "                            <strong>Total threads: </strong> 4\n",
       "                        </td>\n",
       "                    </tr>\n",
       "                    <tr>\n",
       "                        <td style=\"text-align: left;\">\n",
       "                            <strong>Dashboard: </strong> <a href=\"http://10.0.7.89:45116/status\" target=\"_blank\">http://10.0.7.89:45116/status</a>\n",
       "                        </td>\n",
       "                        <td style=\"text-align: left;\">\n",
       "                            <strong>Memory: </strong> 11.23 GiB\n",
       "                        </td>\n",
       "                    </tr>\n",
       "                    <tr>\n",
       "                        <td style=\"text-align: left;\">\n",
       "                            <strong>Nanny: </strong> tcp://10.0.7.89:41466\n",
       "                        </td>\n",
       "                        <td style=\"text-align: left;\"></td>\n",
       "                    </tr>\n",
       "                    <tr>\n",
       "                        <td colspan=\"2\" style=\"text-align: left;\">\n",
       "                            <strong>Local directory: </strong> /global/scratch/users/yanghuikang/upscale/data/temp/dask-worker-space/worker-rhtm54s9\n",
       "                        </td>\n",
       "                    </tr>\n",
       "\n",
       "                    \n",
       "\n",
       "                    \n",
       "\n",
       "                </table>\n",
       "            </details>\n",
       "            </div>\n",
       "        </div>\n",
       "        \n",
       "        <div style=\"margin-bottom: 20px;\">\n",
       "            <div style=\"width: 24px; height: 24px; background-color: #DBF5FF; border: 3px solid #4CC9FF; border-radius: 5px; position: absolute;\"> </div>\n",
       "            <div style=\"margin-left: 48px;\">\n",
       "            <details>\n",
       "                <summary>\n",
       "                    <h4 style=\"margin-bottom: 0px; display: inline;\">Worker: 1</h4>\n",
       "                </summary>\n",
       "                <table style=\"width: 100%; text-align: left;\">\n",
       "                    <tr>\n",
       "                        <td style=\"text-align: left;\">\n",
       "                            <strong>Comm: </strong> tcp://10.0.7.89:41061\n",
       "                        </td>\n",
       "                        <td style=\"text-align: left;\">\n",
       "                            <strong>Total threads: </strong> 4\n",
       "                        </td>\n",
       "                    </tr>\n",
       "                    <tr>\n",
       "                        <td style=\"text-align: left;\">\n",
       "                            <strong>Dashboard: </strong> <a href=\"http://10.0.7.89:44220/status\" target=\"_blank\">http://10.0.7.89:44220/status</a>\n",
       "                        </td>\n",
       "                        <td style=\"text-align: left;\">\n",
       "                            <strong>Memory: </strong> 11.23 GiB\n",
       "                        </td>\n",
       "                    </tr>\n",
       "                    <tr>\n",
       "                        <td style=\"text-align: left;\">\n",
       "                            <strong>Nanny: </strong> tcp://10.0.7.89:34086\n",
       "                        </td>\n",
       "                        <td style=\"text-align: left;\"></td>\n",
       "                    </tr>\n",
       "                    <tr>\n",
       "                        <td colspan=\"2\" style=\"text-align: left;\">\n",
       "                            <strong>Local directory: </strong> /global/scratch/users/yanghuikang/upscale/data/temp/dask-worker-space/worker-s1fy41gp\n",
       "                        </td>\n",
       "                    </tr>\n",
       "\n",
       "                    \n",
       "\n",
       "                    \n",
       "\n",
       "                </table>\n",
       "            </details>\n",
       "            </div>\n",
       "        </div>\n",
       "        \n",
       "        <div style=\"margin-bottom: 20px;\">\n",
       "            <div style=\"width: 24px; height: 24px; background-color: #DBF5FF; border: 3px solid #4CC9FF; border-radius: 5px; position: absolute;\"> </div>\n",
       "            <div style=\"margin-left: 48px;\">\n",
       "            <details>\n",
       "                <summary>\n",
       "                    <h4 style=\"margin-bottom: 0px; display: inline;\">Worker: 2</h4>\n",
       "                </summary>\n",
       "                <table style=\"width: 100%; text-align: left;\">\n",
       "                    <tr>\n",
       "                        <td style=\"text-align: left;\">\n",
       "                            <strong>Comm: </strong> tcp://10.0.7.89:38281\n",
       "                        </td>\n",
       "                        <td style=\"text-align: left;\">\n",
       "                            <strong>Total threads: </strong> 4\n",
       "                        </td>\n",
       "                    </tr>\n",
       "                    <tr>\n",
       "                        <td style=\"text-align: left;\">\n",
       "                            <strong>Dashboard: </strong> <a href=\"http://10.0.7.89:38550/status\" target=\"_blank\">http://10.0.7.89:38550/status</a>\n",
       "                        </td>\n",
       "                        <td style=\"text-align: left;\">\n",
       "                            <strong>Memory: </strong> 11.23 GiB\n",
       "                        </td>\n",
       "                    </tr>\n",
       "                    <tr>\n",
       "                        <td style=\"text-align: left;\">\n",
       "                            <strong>Nanny: </strong> tcp://10.0.7.89:40786\n",
       "                        </td>\n",
       "                        <td style=\"text-align: left;\"></td>\n",
       "                    </tr>\n",
       "                    <tr>\n",
       "                        <td colspan=\"2\" style=\"text-align: left;\">\n",
       "                            <strong>Local directory: </strong> /global/scratch/users/yanghuikang/upscale/data/temp/dask-worker-space/worker-b080qiqe\n",
       "                        </td>\n",
       "                    </tr>\n",
       "\n",
       "                    \n",
       "\n",
       "                    \n",
       "\n",
       "                </table>\n",
       "            </details>\n",
       "            </div>\n",
       "        </div>\n",
       "        \n",
       "        <div style=\"margin-bottom: 20px;\">\n",
       "            <div style=\"width: 24px; height: 24px; background-color: #DBF5FF; border: 3px solid #4CC9FF; border-radius: 5px; position: absolute;\"> </div>\n",
       "            <div style=\"margin-left: 48px;\">\n",
       "            <details>\n",
       "                <summary>\n",
       "                    <h4 style=\"margin-bottom: 0px; display: inline;\">Worker: 3</h4>\n",
       "                </summary>\n",
       "                <table style=\"width: 100%; text-align: left;\">\n",
       "                    <tr>\n",
       "                        <td style=\"text-align: left;\">\n",
       "                            <strong>Comm: </strong> tcp://10.0.7.89:34857\n",
       "                        </td>\n",
       "                        <td style=\"text-align: left;\">\n",
       "                            <strong>Total threads: </strong> 4\n",
       "                        </td>\n",
       "                    </tr>\n",
       "                    <tr>\n",
       "                        <td style=\"text-align: left;\">\n",
       "                            <strong>Dashboard: </strong> <a href=\"http://10.0.7.89:33396/status\" target=\"_blank\">http://10.0.7.89:33396/status</a>\n",
       "                        </td>\n",
       "                        <td style=\"text-align: left;\">\n",
       "                            <strong>Memory: </strong> 11.23 GiB\n",
       "                        </td>\n",
       "                    </tr>\n",
       "                    <tr>\n",
       "                        <td style=\"text-align: left;\">\n",
       "                            <strong>Nanny: </strong> tcp://10.0.7.89:42757\n",
       "                        </td>\n",
       "                        <td style=\"text-align: left;\"></td>\n",
       "                    </tr>\n",
       "                    <tr>\n",
       "                        <td colspan=\"2\" style=\"text-align: left;\">\n",
       "                            <strong>Local directory: </strong> /global/scratch/users/yanghuikang/upscale/data/temp/dask-worker-space/worker-kddts6al\n",
       "                        </td>\n",
       "                    </tr>\n",
       "\n",
       "                    \n",
       "\n",
       "                    \n",
       "\n",
       "                </table>\n",
       "            </details>\n",
       "            </div>\n",
       "        </div>\n",
       "        \n",
       "        <div style=\"margin-bottom: 20px;\">\n",
       "            <div style=\"width: 24px; height: 24px; background-color: #DBF5FF; border: 3px solid #4CC9FF; border-radius: 5px; position: absolute;\"> </div>\n",
       "            <div style=\"margin-left: 48px;\">\n",
       "            <details>\n",
       "                <summary>\n",
       "                    <h4 style=\"margin-bottom: 0px; display: inline;\">Worker: 4</h4>\n",
       "                </summary>\n",
       "                <table style=\"width: 100%; text-align: left;\">\n",
       "                    <tr>\n",
       "                        <td style=\"text-align: left;\">\n",
       "                            <strong>Comm: </strong> tcp://10.0.7.89:36769\n",
       "                        </td>\n",
       "                        <td style=\"text-align: left;\">\n",
       "                            <strong>Total threads: </strong> 4\n",
       "                        </td>\n",
       "                    </tr>\n",
       "                    <tr>\n",
       "                        <td style=\"text-align: left;\">\n",
       "                            <strong>Dashboard: </strong> <a href=\"http://10.0.7.89:36806/status\" target=\"_blank\">http://10.0.7.89:36806/status</a>\n",
       "                        </td>\n",
       "                        <td style=\"text-align: left;\">\n",
       "                            <strong>Memory: </strong> 11.23 GiB\n",
       "                        </td>\n",
       "                    </tr>\n",
       "                    <tr>\n",
       "                        <td style=\"text-align: left;\">\n",
       "                            <strong>Nanny: </strong> tcp://10.0.7.89:36361\n",
       "                        </td>\n",
       "                        <td style=\"text-align: left;\"></td>\n",
       "                    </tr>\n",
       "                    <tr>\n",
       "                        <td colspan=\"2\" style=\"text-align: left;\">\n",
       "                            <strong>Local directory: </strong> /global/scratch/users/yanghuikang/upscale/data/temp/dask-worker-space/worker-vxrzap_f\n",
       "                        </td>\n",
       "                    </tr>\n",
       "\n",
       "                    \n",
       "\n",
       "                    \n",
       "\n",
       "                </table>\n",
       "            </details>\n",
       "            </div>\n",
       "        </div>\n",
       "        \n",
       "        <div style=\"margin-bottom: 20px;\">\n",
       "            <div style=\"width: 24px; height: 24px; background-color: #DBF5FF; border: 3px solid #4CC9FF; border-radius: 5px; position: absolute;\"> </div>\n",
       "            <div style=\"margin-left: 48px;\">\n",
       "            <details>\n",
       "                <summary>\n",
       "                    <h4 style=\"margin-bottom: 0px; display: inline;\">Worker: 5</h4>\n",
       "                </summary>\n",
       "                <table style=\"width: 100%; text-align: left;\">\n",
       "                    <tr>\n",
       "                        <td style=\"text-align: left;\">\n",
       "                            <strong>Comm: </strong> tcp://10.0.7.89:37379\n",
       "                        </td>\n",
       "                        <td style=\"text-align: left;\">\n",
       "                            <strong>Total threads: </strong> 4\n",
       "                        </td>\n",
       "                    </tr>\n",
       "                    <tr>\n",
       "                        <td style=\"text-align: left;\">\n",
       "                            <strong>Dashboard: </strong> <a href=\"http://10.0.7.89:46084/status\" target=\"_blank\">http://10.0.7.89:46084/status</a>\n",
       "                        </td>\n",
       "                        <td style=\"text-align: left;\">\n",
       "                            <strong>Memory: </strong> 11.23 GiB\n",
       "                        </td>\n",
       "                    </tr>\n",
       "                    <tr>\n",
       "                        <td style=\"text-align: left;\">\n",
       "                            <strong>Nanny: </strong> tcp://10.0.7.89:44767\n",
       "                        </td>\n",
       "                        <td style=\"text-align: left;\"></td>\n",
       "                    </tr>\n",
       "                    <tr>\n",
       "                        <td colspan=\"2\" style=\"text-align: left;\">\n",
       "                            <strong>Local directory: </strong> /global/scratch/users/yanghuikang/upscale/data/temp/dask-worker-space/worker-o6he90dq\n",
       "                        </td>\n",
       "                    </tr>\n",
       "\n",
       "                    \n",
       "\n",
       "                    \n",
       "\n",
       "                </table>\n",
       "            </details>\n",
       "            </div>\n",
       "        </div>\n",
       "        \n",
       "        <div style=\"margin-bottom: 20px;\">\n",
       "            <div style=\"width: 24px; height: 24px; background-color: #DBF5FF; border: 3px solid #4CC9FF; border-radius: 5px; position: absolute;\"> </div>\n",
       "            <div style=\"margin-left: 48px;\">\n",
       "            <details>\n",
       "                <summary>\n",
       "                    <h4 style=\"margin-bottom: 0px; display: inline;\">Worker: 6</h4>\n",
       "                </summary>\n",
       "                <table style=\"width: 100%; text-align: left;\">\n",
       "                    <tr>\n",
       "                        <td style=\"text-align: left;\">\n",
       "                            <strong>Comm: </strong> tcp://10.0.7.89:41330\n",
       "                        </td>\n",
       "                        <td style=\"text-align: left;\">\n",
       "                            <strong>Total threads: </strong> 4\n",
       "                        </td>\n",
       "                    </tr>\n",
       "                    <tr>\n",
       "                        <td style=\"text-align: left;\">\n",
       "                            <strong>Dashboard: </strong> <a href=\"http://10.0.7.89:46202/status\" target=\"_blank\">http://10.0.7.89:46202/status</a>\n",
       "                        </td>\n",
       "                        <td style=\"text-align: left;\">\n",
       "                            <strong>Memory: </strong> 11.23 GiB\n",
       "                        </td>\n",
       "                    </tr>\n",
       "                    <tr>\n",
       "                        <td style=\"text-align: left;\">\n",
       "                            <strong>Nanny: </strong> tcp://10.0.7.89:38734\n",
       "                        </td>\n",
       "                        <td style=\"text-align: left;\"></td>\n",
       "                    </tr>\n",
       "                    <tr>\n",
       "                        <td colspan=\"2\" style=\"text-align: left;\">\n",
       "                            <strong>Local directory: </strong> /global/scratch/users/yanghuikang/upscale/data/temp/dask-worker-space/worker-12zxrqoi\n",
       "                        </td>\n",
       "                    </tr>\n",
       "\n",
       "                    \n",
       "\n",
       "                    \n",
       "\n",
       "                </table>\n",
       "            </details>\n",
       "            </div>\n",
       "        </div>\n",
       "        \n",
       "        <div style=\"margin-bottom: 20px;\">\n",
       "            <div style=\"width: 24px; height: 24px; background-color: #DBF5FF; border: 3px solid #4CC9FF; border-radius: 5px; position: absolute;\"> </div>\n",
       "            <div style=\"margin-left: 48px;\">\n",
       "            <details>\n",
       "                <summary>\n",
       "                    <h4 style=\"margin-bottom: 0px; display: inline;\">Worker: 7</h4>\n",
       "                </summary>\n",
       "                <table style=\"width: 100%; text-align: left;\">\n",
       "                    <tr>\n",
       "                        <td style=\"text-align: left;\">\n",
       "                            <strong>Comm: </strong> tcp://10.0.7.89:35589\n",
       "                        </td>\n",
       "                        <td style=\"text-align: left;\">\n",
       "                            <strong>Total threads: </strong> 4\n",
       "                        </td>\n",
       "                    </tr>\n",
       "                    <tr>\n",
       "                        <td style=\"text-align: left;\">\n",
       "                            <strong>Dashboard: </strong> <a href=\"http://10.0.7.89:42090/status\" target=\"_blank\">http://10.0.7.89:42090/status</a>\n",
       "                        </td>\n",
       "                        <td style=\"text-align: left;\">\n",
       "                            <strong>Memory: </strong> 11.23 GiB\n",
       "                        </td>\n",
       "                    </tr>\n",
       "                    <tr>\n",
       "                        <td style=\"text-align: left;\">\n",
       "                            <strong>Nanny: </strong> tcp://10.0.7.89:37929\n",
       "                        </td>\n",
       "                        <td style=\"text-align: left;\"></td>\n",
       "                    </tr>\n",
       "                    <tr>\n",
       "                        <td colspan=\"2\" style=\"text-align: left;\">\n",
       "                            <strong>Local directory: </strong> /global/scratch/users/yanghuikang/upscale/data/temp/dask-worker-space/worker-pysvsjy_\n",
       "                        </td>\n",
       "                    </tr>\n",
       "\n",
       "                    \n",
       "\n",
       "                    \n",
       "\n",
       "                </table>\n",
       "            </details>\n",
       "            </div>\n",
       "        </div>\n",
       "        \n",
       "\n",
       "    </details>\n",
       "</div>\n",
       "\n",
       "        </details>\n",
       "    </div>\n",
       "</div>\n",
       "            </details>\n",
       "        \n",
       "\n",
       "    </div>\n",
       "</div>"
      ],
      "text/plain": [
       "<Client: 'tcp://10.0.7.89:40453' processes=8 threads=32, memory=89.84 GiB>"
      ]
     },
     "execution_count": 3,
     "metadata": {},
     "output_type": "execute_result"
    }
   ],
   "source": [
    "cluster = LocalCluster(ip='*') \n",
    "client = Client(cluster)\n",
    "client"
   ]
  },
  {
   "cell_type": "code",
   "execution_count": 4,
   "metadata": {},
   "outputs": [],
   "source": [
    "# read training data, need to use dask array for xgb.dask to work\n",
    "data_path = '/global/scratch/users/yanghuikang/upscale/data/site/fulldata/'\n",
    "train_st = pd.read_csv(data_path+'data_full_oneflux_features_shortterm_clean_v1_2.csv')\n",
    "train_lt = pd.read_csv(data_path+'data_full_oneflux_features_longterm_clean_v1_2.csv')\n"
   ]
  },
  {
   "cell_type": "code",
   "execution_count": 5,
   "metadata": {},
   "outputs": [],
   "source": [
    "# create a list of model configurations\n",
    "st_config = mcf.param_st_dict['xgboost']\n",
    "\n",
    "model_config_ST_Baseline_NT = {'target':'GPP_NT_VUT_REF',\n",
    "                               'features':mcf.ft_setup_dict['ST_Baseline'],\n",
    "                               'name':'ST_Baseline_NT',\n",
    "                               'hyper_param': st_config}\n",
    "\n",
    "model_config_ST_Baseline_DT = {'target':'GPP_DT_VUT_REF',\n",
    "                               'features':mcf.ft_setup_dict['ST_Baseline'],\n",
    "                               'name':'ST_Baseline_DT',\n",
    "                               'hyper_param': st_config}\n",
    "\n",
    "model_config_ST_CFE_NT = {'target':'GPP_NT_VUT_REF',\n",
    "                          'features':mcf.ft_setup_dict['ST_CFE'],\n",
    "                          'name':'ST_CFE_NT',\n",
    "                          'hyper_param': st_config}\n",
    "\n",
    "model_config_ST_CFE_DT = {'target':'GPP_DT_VUT_REF',\n",
    "                          'features':mcf.ft_setup_dict['ST_CFE'],\n",
    "                          'name':'ST_CFE_DT',\n",
    "                          'hyper_param': st_config}\n",
    "\n",
    "\"\"\"\n",
    "lt_config = mcf.param_lt_dict['xgboost']\n",
    "model_config_LT_Baseline_NT = {'target':'GPP_NT_VUT_REF',\n",
    "                               'features':mcf.ft_setup_dict['LT_Baseline'],\n",
    "                               'name':'LT_Baseline_NT',\n",
    "                               'hyper_param': lt_config}\n",
    "\n",
    "model_config_LT_Baseline_DT = {'target':'GPP_DT_VUT_REF',\n",
    "                               'features':mcf.ft_setup_dict['LT_Baseline'],\n",
    "                               'name':'LT_Baseline_DT',\n",
    "                               'hyper_param': lt_config}\n",
    "\n",
    "model_config_LT_CFE_NT = {'target':'GPP_NT_VUT_REF',\n",
    "                          'features':mcf.ft_setup_dict['LT_CFE'],\n",
    "                          'name':'LT_CFE_NT',\n",
    "                          'hyper_param': lt_config}\n",
    "\n",
    "model_config_LT_CFE_DT = {'target':'GPP_DT_VUT_REF',\n",
    "                          'features':mcf.ft_setup_dict['LT_CFE'],\n",
    "                          'name':'LT_CFE_DT',\n",
    "                          'hyper_param': lt_config}\n",
    "\"\"\"\n",
    "\n",
    "config_list = [model_config_ST_Baseline_NT, model_config_ST_CFE_NT, model_config_ST_Baseline_DT, model_config_ST_CFE_DT]"
   ]
  },
  {
   "cell_type": "code",
   "execution_count": 6,
   "metadata": {},
   "outputs": [],
   "source": [
    "# generate a list of random seed\n",
    "random.seed(mcf.RANDOM_STATE)\n",
    "random_list = random.sample(range(1,1000),30)"
   ]
  },
  {
   "cell_type": "code",
   "execution_count": 7,
   "metadata": {},
   "outputs": [],
   "source": [
    "# create a random selection of 80% of data, cover all PFTs, and data from one site will not be split\n",
    "def getSplit(data, random_state):\n",
    "    \n",
    "    n_fold = 5\n",
    "    group = 'SITE_ID'\n",
    "    stratify_class = 'MODIS_IGBP'\n",
    "    group_kfold = StratifiedGroupKFold(n_splits=n_fold,shuffle=True,random_state=random_state)\n",
    "    train_split = [[tr,te] for tr, te in group_kfold.split(data,data[stratify_class],data[group])]\n",
    "    train_index = train_split[0][0]\n",
    "    data_sample = data.iloc[train_index,]\n",
    "    \n",
    "    data_sample = data_sample.sample(frac=1,ignore_index=True) # re-index after shuffle\n",
    "    \n",
    "    return data_sample"
   ]
  },
  {
   "cell_type": "code",
   "execution_count": 8,
   "metadata": {},
   "outputs": [],
   "source": [
    "# create a bootstrapping sample of sites\n",
    "def getBootstrap(data, random_state):\n",
    "\n",
    "    sites_list = data.groupby(['SITE_ID','MODIS_PFT','SITE_IGBP']).agg({'month':'count'}).reset_index()\n",
    "    sample = sites_list.sample(n=sites_list.shape[0],replace=True, random_state = random_state).reset_index()\n",
    "    sample.loc[:,'uid'] = pd.Series(range(sample.shape[0]))\n",
    "    data_sample = sample.groupby(['uid','SITE_ID']).apply(lambda x: data[data['SITE_ID']==x.iloc[0]['SITE_ID']])\n",
    "    data_sample = data_sample.drop(columns=['SITE_ID']).reset_index()\n",
    "    \n",
    "    data_sample = data_sample.sample(frac=1,ignore_index=True) # shuffle the data, re-index after shuffle\n",
    "\n",
    "    print('No. of unique site: {}'.format(len(data_sample['SITE_ID'].unique())))\n",
    "    print('No. of site months: {}'.format(data_sample.shape[0]))\n",
    "    print('Unique MODIS_PFT: {}'.format(data_sample['MODIS_PFT'].unique()))\n",
    "\n",
    "    return data_sample\n",
    "\n",
    "# for random_state in random_list:\n",
    "#     train = getBootstrap(train_st, random_state)"
   ]
  },
  {
   "cell_type": "code",
   "execution_count": 9,
   "metadata": {},
   "outputs": [],
   "source": [
    "def saveModel(data, config, outname):\n",
    "    \"\"\"\n",
    "    Train and save xgboost model\n",
    "    \"\"\"\n",
    "    \n",
    "    start = time.time()\n",
    "\n",
    "    ft_list = config['features']\n",
    "    target_col = config['target']\n",
    "    num_boost_round = config['hyper_param']['n_estimators']\n",
    "    gamma = config['hyper_param']['gamma']\n",
    "    learning_rate = config['hyper_param']['learning_rate']\n",
    "    colsample_bytree = config['hyper_param']['colsample_bytree']\n",
    "\n",
    "    # convert to Dask matrix\n",
    "    dtrain = xgb.dask.DaskDMatrix(client,dd.from_pandas(data[ft_list],npartitions=1),\n",
    "                                  dd.from_pandas(data[target_col],npartitions=1),feature_names=ft_list)\n",
    "    # print(dtrain.num_col())\n",
    "    # print(dtrain.feature_names)\n",
    "    \n",
    "    # xgboost trianing\n",
    "    xgb_params = {'colsample_bytree': colsample_bytree, 'gamma': gamma, 'learning_rate': learning_rate, 'verbosity':0}\n",
    "    xgb_output = xgb.dask.train(client, xgb_params, dtrain, num_boost_round=num_boost_round, evals=[(dtrain,'train')],\n",
    "                               verbose_eval=False)\n",
    "    \n",
    "    pred = xgb.dask.predict(client,xgb_output['booster'],dtrain)\n",
    "    train_pred = data[['SITE_ID','year','month',target_col]].copy()\n",
    "    train_pred.loc[:,'pred'] = pred.compute()\n",
    "    \n",
    "    # training accuracy\n",
    "    accu = me.getMetrics(train_pred['pred'],train_pred[target_col],'')\n",
    "    \n",
    "    # save model\n",
    "    # print(accu)\n",
    "    print('training accu.: {:.2f}'.format(accu['_rmse']))\n",
    "    print('saving to ...'+outname,flush=True)\n",
    "    xgb_output['booster'].save_model(outname)\n",
    "    print('time lapse ... {:d} seconds'.format(int(time.time()-start)))\n",
    "    "
   ]
  },
  {
   "cell_type": "code",
   "execution_count": 10,
   "metadata": {},
   "outputs": [
    {
     "name": "stdout",
     "output_type": "stream",
     "text": [
      "No. of unique site: 145\n",
      "No. of site months: 19062\n",
      "Unique MODIS_PFT: ['CRO' 'SA' 'MF' 'Other' 'GRA' 'DBF' 'ENF' 'EBF' 'SH']\n"
     ]
    },
    {
     "name": "stderr",
     "output_type": "stream",
     "text": [
      "/global/scratch/users/yanghuikang/conda/env/ml-new/lib/python3.10/site-packages/xgboost/compat.py:36: FutureWarning: pandas.Int64Index is deprecated and will be removed from pandas in a future version. Use pandas.Index with the appropriate dtype instead.\n",
      "  from pandas import MultiIndex, Int64Index\n",
      "[10:50:49] task [xgboost.dask]:tcp://10.0.7.89:33706 got new rank 0\n",
      "/global/scratch/users/yanghuikang/conda/env/ml-new/lib/python3.10/site-packages/xgboost/compat.py:36: FutureWarning: pandas.Int64Index is deprecated and will be removed from pandas in a future version. Use pandas.Index with the appropriate dtype instead.\n",
      "  from pandas import MultiIndex, Int64Index\n",
      "/global/scratch/users/yanghuikang/conda/env/ml-new/lib/python3.10/site-packages/xgboost/compat.py:36: FutureWarning: pandas.Int64Index is deprecated and will be removed from pandas in a future version. Use pandas.Index with the appropriate dtype instead.\n",
      "  from pandas import MultiIndex, Int64Index\n",
      "/global/scratch/users/yanghuikang/conda/env/ml-new/lib/python3.10/site-packages/xgboost/compat.py:36: FutureWarning: pandas.Int64Index is deprecated and will be removed from pandas in a future version. Use pandas.Index with the appropriate dtype instead.\n",
      "  from pandas import MultiIndex, Int64Index\n",
      "/global/scratch/users/yanghuikang/conda/env/ml-new/lib/python3.10/site-packages/xgboost/compat.py:36: FutureWarning: pandas.Int64Index is deprecated and will be removed from pandas in a future version. Use pandas.Index with the appropriate dtype instead.\n",
      "  from pandas import MultiIndex, Int64Index\n",
      "/global/scratch/users/yanghuikang/conda/env/ml-new/lib/python3.10/site-packages/xgboost/compat.py:36: FutureWarning: pandas.Int64Index is deprecated and will be removed from pandas in a future version. Use pandas.Index with the appropriate dtype instead.\n",
      "  from pandas import MultiIndex, Int64Index\n",
      "/global/scratch/users/yanghuikang/conda/env/ml-new/lib/python3.10/site-packages/xgboost/compat.py:36: FutureWarning: pandas.Int64Index is deprecated and will be removed from pandas in a future version. Use pandas.Index with the appropriate dtype instead.\n",
      "  from pandas import MultiIndex, Int64Index\n",
      "/global/scratch/users/yanghuikang/conda/env/ml-new/lib/python3.10/site-packages/xgboost/compat.py:36: FutureWarning: pandas.Int64Index is deprecated and will be removed from pandas in a future version. Use pandas.Index with the appropriate dtype instead.\n",
      "  from pandas import MultiIndex, Int64Index\n"
     ]
    },
    {
     "name": "stdout",
     "output_type": "stream",
     "text": [
      "training accu.: 1.34\n",
      "saving to ...test\n",
      "time lapse ... 12 seconds\n",
      "CPU times: user 1.68 s, sys: 1.14 s, total: 2.81 s\n",
      "Wall time: 13.2 s\n"
     ]
    }
   ],
   "source": [
    "%%time\n",
    "data_train = getBootstrap(train_st,1)\n",
    "config = model_config_ST_Baseline_NT\n",
    "saveModel(data_train, config, 'test')"
   ]
  },
  {
   "cell_type": "code",
   "execution_count": 11,
   "metadata": {},
   "outputs": [
    {
     "name": "stdout",
     "output_type": "stream",
     "text": [
      "\n",
      "ST_Baseline_NT\n",
      "ensemble 0\n",
      "No. of unique site: 139\n",
      "No. of site months: 16997\n",
      "Unique MODIS_PFT: ['CRO' 'MF' 'SA' 'Other' 'GRA' 'ENF' 'DBF' 'SH' 'EBF']\n"
     ]
    },
    {
     "name": "stderr",
     "output_type": "stream",
     "text": [
      "[10:51:46] task [xgboost.dask]:tcp://10.0.7.89:33706 got new rank 0\n"
     ]
    },
    {
     "name": "stdout",
     "output_type": "stream",
     "text": [
      "training accu.: 1.29\n",
      "saving to .../global/home/users/yanghuikang/projects/upscale/saved_models/ensemble_v1_2/xgboost_ST_Baseline_NT_ensemble_0.json\n",
      "time lapse ... 8 seconds\n",
      "ensemble 1\n",
      "No. of unique site: 153\n",
      "No. of site months: 18143\n",
      "Unique MODIS_PFT: ['GRA' 'MF' 'CRO' 'SH' 'SA' 'ENF' 'DBF' 'EBF' 'Other']\n"
     ]
    },
    {
     "name": "stderr",
     "output_type": "stream",
     "text": [
      "[10:51:55] task [xgboost.dask]:tcp://10.0.7.89:33706 got new rank 0\n"
     ]
    },
    {
     "name": "stdout",
     "output_type": "stream",
     "text": [
      "training accu.: 1.37\n",
      "saving to .../global/home/users/yanghuikang/projects/upscale/saved_models/ensemble_v1_2/xgboost_ST_Baseline_NT_ensemble_1.json\n",
      "time lapse ... 8 seconds\n",
      "ensemble 2\n",
      "No. of unique site: 145\n",
      "No. of site months: 18198\n",
      "Unique MODIS_PFT: ['CRO' 'SA' 'ENF' 'GRA' 'DBF' 'Other' 'SH' 'MF' 'EBF']\n"
     ]
    },
    {
     "name": "stderr",
     "output_type": "stream",
     "text": [
      "[10:52:04] task [xgboost.dask]:tcp://10.0.7.89:33706 got new rank 0\n"
     ]
    },
    {
     "name": "stdout",
     "output_type": "stream",
     "text": [
      "training accu.: 1.43\n",
      "saving to .../global/home/users/yanghuikang/projects/upscale/saved_models/ensemble_v1_2/xgboost_ST_Baseline_NT_ensemble_2.json\n",
      "time lapse ... 8 seconds\n",
      "ensemble 3\n",
      "No. of unique site: 142\n",
      "No. of site months: 20228\n",
      "Unique MODIS_PFT: ['SA' 'GRA' 'Other' 'MF' 'DBF' 'ENF' 'CRO' 'EBF' 'SH']\n"
     ]
    },
    {
     "name": "stderr",
     "output_type": "stream",
     "text": [
      "[10:52:14] task [xgboost.dask]:tcp://10.0.7.89:33706 got new rank 0\n"
     ]
    },
    {
     "name": "stdout",
     "output_type": "stream",
     "text": [
      "training accu.: 1.26\n",
      "saving to .../global/home/users/yanghuikang/projects/upscale/saved_models/ensemble_v1_2/xgboost_ST_Baseline_NT_ensemble_3.json\n",
      "time lapse ... 9 seconds\n",
      "ensemble 4\n",
      "No. of unique site: 139\n",
      "No. of site months: 19286\n",
      "Unique MODIS_PFT: ['DBF' 'SA' 'CRO' 'MF' 'SH' 'GRA' 'ENF' 'EBF' 'Other']\n"
     ]
    },
    {
     "name": "stderr",
     "output_type": "stream",
     "text": [
      "[10:52:23] task [xgboost.dask]:tcp://10.0.7.89:33706 got new rank 0\n"
     ]
    },
    {
     "name": "stdout",
     "output_type": "stream",
     "text": [
      "training accu.: 1.32\n",
      "saving to .../global/home/users/yanghuikang/projects/upscale/saved_models/ensemble_v1_2/xgboost_ST_Baseline_NT_ensemble_4.json\n",
      "time lapse ... 9 seconds\n",
      "ensemble 5\n",
      "No. of unique site: 153\n",
      "No. of site months: 18083\n",
      "Unique MODIS_PFT: ['ENF' 'Other' 'GRA' 'SA' 'CRO' 'EBF' 'MF' 'DBF' 'SH']\n"
     ]
    },
    {
     "name": "stderr",
     "output_type": "stream",
     "text": [
      "[10:52:33] task [xgboost.dask]:tcp://10.0.7.89:33706 got new rank 0\n"
     ]
    },
    {
     "name": "stdout",
     "output_type": "stream",
     "text": [
      "training accu.: 1.37\n",
      "saving to .../global/home/users/yanghuikang/projects/upscale/saved_models/ensemble_v1_2/xgboost_ST_Baseline_NT_ensemble_5.json\n",
      "time lapse ... 8 seconds\n",
      "ensemble 6\n",
      "No. of unique site: 139\n",
      "No. of site months: 18965\n",
      "Unique MODIS_PFT: ['SA' 'CRO' 'GRA' 'EBF' 'MF' 'DBF' 'SH' 'ENF' 'Other']\n"
     ]
    },
    {
     "name": "stderr",
     "output_type": "stream",
     "text": [
      "[10:52:42] task [xgboost.dask]:tcp://10.0.7.89:33706 got new rank 0\n"
     ]
    },
    {
     "name": "stdout",
     "output_type": "stream",
     "text": [
      "training accu.: 1.41\n",
      "saving to .../global/home/users/yanghuikang/projects/upscale/saved_models/ensemble_v1_2/xgboost_ST_Baseline_NT_ensemble_6.json\n",
      "time lapse ... 8 seconds\n",
      "ensemble 7\n",
      "No. of unique site: 148\n",
      "No. of site months: 16848\n",
      "Unique MODIS_PFT: ['SA' 'CRO' 'ENF' 'MF' 'GRA' 'DBF' 'EBF' 'Other' 'SH']\n"
     ]
    },
    {
     "name": "stderr",
     "output_type": "stream",
     "text": [
      "[10:52:51] task [xgboost.dask]:tcp://10.0.7.89:33706 got new rank 0\n"
     ]
    },
    {
     "name": "stdout",
     "output_type": "stream",
     "text": [
      "training accu.: 1.32\n",
      "saving to .../global/home/users/yanghuikang/projects/upscale/saved_models/ensemble_v1_2/xgboost_ST_Baseline_NT_ensemble_7.json\n",
      "time lapse ... 8 seconds\n",
      "ensemble 8\n",
      "No. of unique site: 152\n",
      "No. of site months: 17661\n",
      "Unique MODIS_PFT: ['GRA' 'ENF' 'CRO' 'SH' 'SA' 'MF' 'DBF' 'Other' 'EBF']\n"
     ]
    },
    {
     "name": "stderr",
     "output_type": "stream",
     "text": [
      "[10:53:00] task [xgboost.dask]:tcp://10.0.7.89:33706 got new rank 0\n"
     ]
    },
    {
     "name": "stdout",
     "output_type": "stream",
     "text": [
      "training accu.: 1.27\n",
      "saving to .../global/home/users/yanghuikang/projects/upscale/saved_models/ensemble_v1_2/xgboost_ST_Baseline_NT_ensemble_8.json\n",
      "time lapse ... 8 seconds\n",
      "ensemble 9\n",
      "No. of unique site: 147\n",
      "No. of site months: 18572\n",
      "Unique MODIS_PFT: ['CRO' 'SA' 'GRA' 'ENF' 'DBF' 'MF' 'SH' 'EBF' 'Other']\n"
     ]
    },
    {
     "name": "stderr",
     "output_type": "stream",
     "text": [
      "[10:53:09] task [xgboost.dask]:tcp://10.0.7.89:33706 got new rank 0\n"
     ]
    },
    {
     "name": "stdout",
     "output_type": "stream",
     "text": [
      "training accu.: 1.24\n",
      "saving to .../global/home/users/yanghuikang/projects/upscale/saved_models/ensemble_v1_2/xgboost_ST_Baseline_NT_ensemble_9.json\n",
      "time lapse ... 9 seconds\n",
      "ensemble 10\n",
      "No. of unique site: 145\n",
      "No. of site months: 17686\n",
      "Unique MODIS_PFT: ['SA' 'Other' 'CRO' 'EBF' 'MF' 'GRA' 'DBF' 'SH' 'ENF']\n"
     ]
    },
    {
     "name": "stderr",
     "output_type": "stream",
     "text": [
      "[10:53:19] task [xgboost.dask]:tcp://10.0.7.89:33706 got new rank 0\n"
     ]
    },
    {
     "name": "stdout",
     "output_type": "stream",
     "text": [
      "training accu.: 1.37\n",
      "saving to .../global/home/users/yanghuikang/projects/upscale/saved_models/ensemble_v1_2/xgboost_ST_Baseline_NT_ensemble_10.json\n",
      "time lapse ... 8 seconds\n",
      "ensemble 11\n",
      "No. of unique site: 158\n",
      "No. of site months: 17873\n",
      "Unique MODIS_PFT: ['SA' 'GRA' 'CRO' 'MF' 'Other' 'ENF' 'SH' 'DBF' 'EBF']\n"
     ]
    },
    {
     "name": "stderr",
     "output_type": "stream",
     "text": [
      "[10:53:28] task [xgboost.dask]:tcp://10.0.7.89:33706 got new rank 0\n"
     ]
    },
    {
     "name": "stdout",
     "output_type": "stream",
     "text": [
      "training accu.: 1.32\n",
      "saving to .../global/home/users/yanghuikang/projects/upscale/saved_models/ensemble_v1_2/xgboost_ST_Baseline_NT_ensemble_11.json\n",
      "time lapse ... 8 seconds\n",
      "ensemble 12\n",
      "No. of unique site: 145\n",
      "No. of site months: 18712\n",
      "Unique MODIS_PFT: ['SA' 'ENF' 'CRO' 'SH' 'GRA' 'DBF' 'Other' 'MF' 'EBF']\n"
     ]
    },
    {
     "name": "stderr",
     "output_type": "stream",
     "text": [
      "[10:53:37] task [xgboost.dask]:tcp://10.0.7.89:33706 got new rank 0\n"
     ]
    },
    {
     "name": "stdout",
     "output_type": "stream",
     "text": [
      "training accu.: 1.35\n",
      "saving to .../global/home/users/yanghuikang/projects/upscale/saved_models/ensemble_v1_2/xgboost_ST_Baseline_NT_ensemble_12.json\n",
      "time lapse ... 8 seconds\n",
      "ensemble 13\n",
      "No. of unique site: 146\n",
      "No. of site months: 19729\n",
      "Unique MODIS_PFT: ['ENF' 'SA' 'DBF' 'MF' 'CRO' 'SH' 'GRA' 'Other' 'EBF']\n"
     ]
    },
    {
     "name": "stderr",
     "output_type": "stream",
     "text": [
      "[10:53:47] task [xgboost.dask]:tcp://10.0.7.89:33706 got new rank 0\n"
     ]
    },
    {
     "name": "stdout",
     "output_type": "stream",
     "text": [
      "training accu.: 1.44\n",
      "saving to .../global/home/users/yanghuikang/projects/upscale/saved_models/ensemble_v1_2/xgboost_ST_Baseline_NT_ensemble_13.json\n",
      "time lapse ... 9 seconds\n",
      "ensemble 14\n",
      "No. of unique site: 149\n",
      "No. of site months: 18267\n",
      "Unique MODIS_PFT: ['DBF' 'CRO' 'SA' 'GRA' 'Other' 'ENF' 'MF' 'SH' 'EBF']\n"
     ]
    },
    {
     "name": "stderr",
     "output_type": "stream",
     "text": [
      "[10:53:57] task [xgboost.dask]:tcp://10.0.7.89:33706 got new rank 0\n"
     ]
    },
    {
     "name": "stdout",
     "output_type": "stream",
     "text": [
      "training accu.: 1.40\n",
      "saving to .../global/home/users/yanghuikang/projects/upscale/saved_models/ensemble_v1_2/xgboost_ST_Baseline_NT_ensemble_14.json\n",
      "time lapse ... 9 seconds\n",
      "ensemble 15\n",
      "No. of unique site: 137\n",
      "No. of site months: 18334\n",
      "Unique MODIS_PFT: ['SA' 'ENF' 'GRA' 'Other' 'CRO' 'DBF' 'MF' 'SH' 'EBF']\n"
     ]
    },
    {
     "name": "stderr",
     "output_type": "stream",
     "text": [
      "[10:54:07] task [xgboost.dask]:tcp://10.0.7.89:33706 got new rank 0\n"
     ]
    },
    {
     "name": "stdout",
     "output_type": "stream",
     "text": [
      "training accu.: 1.27\n",
      "saving to .../global/home/users/yanghuikang/projects/upscale/saved_models/ensemble_v1_2/xgboost_ST_Baseline_NT_ensemble_15.json\n",
      "time lapse ... 8 seconds\n",
      "ensemble 16\n",
      "No. of unique site: 150\n",
      "No. of site months: 18314\n",
      "Unique MODIS_PFT: ['SA' 'CRO' 'DBF' 'GRA' 'MF' 'ENF' 'SH' 'Other' 'EBF']\n"
     ]
    },
    {
     "name": "stderr",
     "output_type": "stream",
     "text": [
      "[10:54:16] task [xgboost.dask]:tcp://10.0.7.89:33706 got new rank 0\n"
     ]
    },
    {
     "name": "stdout",
     "output_type": "stream",
     "text": [
      "training accu.: 1.43\n",
      "saving to .../global/home/users/yanghuikang/projects/upscale/saved_models/ensemble_v1_2/xgboost_ST_Baseline_NT_ensemble_16.json\n",
      "time lapse ... 8 seconds\n",
      "ensemble 17\n",
      "No. of unique site: 149\n",
      "No. of site months: 18434\n",
      "Unique MODIS_PFT: ['CRO' 'MF' 'GRA' 'ENF' 'SH' 'SA' 'DBF' 'Other' 'EBF']\n"
     ]
    },
    {
     "name": "stderr",
     "output_type": "stream",
     "text": [
      "[10:54:26] task [xgboost.dask]:tcp://10.0.7.89:33706 got new rank 0\n"
     ]
    },
    {
     "name": "stdout",
     "output_type": "stream",
     "text": [
      "training accu.: 1.47\n",
      "saving to .../global/home/users/yanghuikang/projects/upscale/saved_models/ensemble_v1_2/xgboost_ST_Baseline_NT_ensemble_17.json\n",
      "time lapse ... 8 seconds\n",
      "ensemble 18\n",
      "No. of unique site: 148\n",
      "No. of site months: 18707\n",
      "Unique MODIS_PFT: ['GRA' 'CRO' 'SA' 'ENF' 'DBF' 'MF' 'Other' 'EBF' 'SH']\n"
     ]
    },
    {
     "name": "stderr",
     "output_type": "stream",
     "text": [
      "[10:54:35] task [xgboost.dask]:tcp://10.0.7.89:33706 got new rank 0\n"
     ]
    },
    {
     "name": "stdout",
     "output_type": "stream",
     "text": [
      "training accu.: 1.33\n",
      "saving to .../global/home/users/yanghuikang/projects/upscale/saved_models/ensemble_v1_2/xgboost_ST_Baseline_NT_ensemble_18.json\n",
      "time lapse ... 9 seconds\n",
      "ensemble 19\n",
      "No. of unique site: 147\n",
      "No. of site months: 19895\n",
      "Unique MODIS_PFT: ['SA' 'CRO' 'SH' 'EBF' 'ENF' 'Other' 'MF' 'GRA' 'DBF']\n"
     ]
    },
    {
     "name": "stderr",
     "output_type": "stream",
     "text": [
      "[10:54:45] task [xgboost.dask]:tcp://10.0.7.89:33706 got new rank 0\n"
     ]
    },
    {
     "name": "stdout",
     "output_type": "stream",
     "text": [
      "training accu.: 1.32\n",
      "saving to .../global/home/users/yanghuikang/projects/upscale/saved_models/ensemble_v1_2/xgboost_ST_Baseline_NT_ensemble_19.json\n",
      "time lapse ... 9 seconds\n",
      "ensemble 20\n",
      "No. of unique site: 155\n",
      "No. of site months: 17376\n",
      "Unique MODIS_PFT: ['SA' 'CRO' 'DBF' 'ENF' 'SH' 'EBF' 'Other' 'GRA' 'MF']\n"
     ]
    },
    {
     "name": "stderr",
     "output_type": "stream",
     "text": [
      "[10:54:54] task [xgboost.dask]:tcp://10.0.7.89:33706 got new rank 0\n"
     ]
    },
    {
     "name": "stdout",
     "output_type": "stream",
     "text": [
      "training accu.: 1.35\n",
      "saving to .../global/home/users/yanghuikang/projects/upscale/saved_models/ensemble_v1_2/xgboost_ST_Baseline_NT_ensemble_20.json\n",
      "time lapse ... 8 seconds\n",
      "ensemble 21\n",
      "No. of unique site: 151\n",
      "No. of site months: 17955\n",
      "Unique MODIS_PFT: ['GRA' 'SA' 'DBF' 'CRO' 'ENF' 'MF' 'SH' 'Other' 'EBF']\n"
     ]
    },
    {
     "name": "stderr",
     "output_type": "stream",
     "text": [
      "[10:55:03] task [xgboost.dask]:tcp://10.0.7.89:33706 got new rank 0\n"
     ]
    },
    {
     "name": "stdout",
     "output_type": "stream",
     "text": [
      "training accu.: 1.38\n",
      "saving to .../global/home/users/yanghuikang/projects/upscale/saved_models/ensemble_v1_2/xgboost_ST_Baseline_NT_ensemble_21.json\n",
      "time lapse ... 8 seconds\n",
      "ensemble 22\n",
      "No. of unique site: 146\n",
      "No. of site months: 17935\n",
      "Unique MODIS_PFT: ['MF' 'SA' 'CRO' 'ENF' 'GRA' 'DBF' 'SH' 'Other' 'EBF']\n"
     ]
    },
    {
     "name": "stderr",
     "output_type": "stream",
     "text": [
      "[10:55:13] task [xgboost.dask]:tcp://10.0.7.89:33706 got new rank 0\n"
     ]
    },
    {
     "name": "stdout",
     "output_type": "stream",
     "text": [
      "training accu.: 1.34\n",
      "saving to .../global/home/users/yanghuikang/projects/upscale/saved_models/ensemble_v1_2/xgboost_ST_Baseline_NT_ensemble_22.json\n",
      "time lapse ... 9 seconds\n",
      "ensemble 23\n",
      "No. of unique site: 141\n",
      "No. of site months: 16280\n",
      "Unique MODIS_PFT: ['SA' 'CRO' 'GRA' 'SH' 'DBF' 'ENF' 'EBF' 'Other' 'MF']\n"
     ]
    },
    {
     "name": "stderr",
     "output_type": "stream",
     "text": [
      "[10:55:22] task [xgboost.dask]:tcp://10.0.7.89:33706 got new rank 0\n"
     ]
    },
    {
     "name": "stdout",
     "output_type": "stream",
     "text": [
      "training accu.: 1.22\n",
      "saving to .../global/home/users/yanghuikang/projects/upscale/saved_models/ensemble_v1_2/xgboost_ST_Baseline_NT_ensemble_23.json\n",
      "time lapse ... 8 seconds\n",
      "ensemble 24\n",
      "No. of unique site: 145\n",
      "No. of site months: 16414\n",
      "Unique MODIS_PFT: ['DBF' 'GRA' 'ENF' 'CRO' 'SA' 'MF' 'EBF' 'Other' 'SH']\n"
     ]
    },
    {
     "name": "stderr",
     "output_type": "stream",
     "text": [
      "[10:55:31] task [xgboost.dask]:tcp://10.0.7.89:33706 got new rank 0\n"
     ]
    },
    {
     "name": "stdout",
     "output_type": "stream",
     "text": [
      "training accu.: 1.26\n",
      "saving to .../global/home/users/yanghuikang/projects/upscale/saved_models/ensemble_v1_2/xgboost_ST_Baseline_NT_ensemble_24.json\n",
      "time lapse ... 8 seconds\n",
      "ensemble 25\n",
      "No. of unique site: 150\n",
      "No. of site months: 18192\n",
      "Unique MODIS_PFT: ['SA' 'SH' 'Other' 'CRO' 'ENF' 'MF' 'DBF' 'GRA' 'EBF']\n"
     ]
    },
    {
     "name": "stderr",
     "output_type": "stream",
     "text": [
      "[10:55:40] task [xgboost.dask]:tcp://10.0.7.89:33706 got new rank 0\n"
     ]
    },
    {
     "name": "stdout",
     "output_type": "stream",
     "text": [
      "training accu.: 1.31\n",
      "saving to .../global/home/users/yanghuikang/projects/upscale/saved_models/ensemble_v1_2/xgboost_ST_Baseline_NT_ensemble_25.json\n",
      "time lapse ... 9 seconds\n",
      "ensemble 26\n",
      "No. of unique site: 150\n",
      "No. of site months: 18745\n",
      "Unique MODIS_PFT: ['CRO' 'SA' 'GRA' 'Other' 'DBF' 'ENF' 'EBF' 'MF' 'SH']\n"
     ]
    },
    {
     "name": "stderr",
     "output_type": "stream",
     "text": [
      "[10:55:50] task [xgboost.dask]:tcp://10.0.7.89:33706 got new rank 0\n"
     ]
    },
    {
     "name": "stdout",
     "output_type": "stream",
     "text": [
      "training accu.: 1.28\n",
      "saving to .../global/home/users/yanghuikang/projects/upscale/saved_models/ensemble_v1_2/xgboost_ST_Baseline_NT_ensemble_26.json\n",
      "time lapse ... 8 seconds\n",
      "ensemble 27\n",
      "No. of unique site: 152\n",
      "No. of site months: 18480\n",
      "Unique MODIS_PFT: ['SA' 'Other' 'GRA' 'CRO' 'DBF' 'SH' 'ENF' 'MF' 'EBF']\n"
     ]
    },
    {
     "name": "stderr",
     "output_type": "stream",
     "text": [
      "[10:55:59] task [xgboost.dask]:tcp://10.0.7.89:33706 got new rank 0\n"
     ]
    },
    {
     "name": "stdout",
     "output_type": "stream",
     "text": [
      "training accu.: 1.36\n",
      "saving to .../global/home/users/yanghuikang/projects/upscale/saved_models/ensemble_v1_2/xgboost_ST_Baseline_NT_ensemble_27.json\n",
      "time lapse ... 8 seconds\n",
      "ensemble 28\n",
      "No. of unique site: 142\n",
      "No. of site months: 18364\n",
      "Unique MODIS_PFT: ['MF' 'DBF' 'ENF' 'EBF' 'CRO' 'SA' 'Other' 'GRA' 'SH']\n"
     ]
    },
    {
     "name": "stderr",
     "output_type": "stream",
     "text": [
      "[10:56:09] task [xgboost.dask]:tcp://10.0.7.89:33706 got new rank 0\n"
     ]
    },
    {
     "name": "stdout",
     "output_type": "stream",
     "text": [
      "training accu.: 1.26\n",
      "saving to .../global/home/users/yanghuikang/projects/upscale/saved_models/ensemble_v1_2/xgboost_ST_Baseline_NT_ensemble_28.json\n",
      "time lapse ... 8 seconds\n",
      "ensemble 29\n",
      "No. of unique site: 147\n",
      "No. of site months: 16816\n",
      "Unique MODIS_PFT: ['CRO' 'MF' 'ENF' 'Other' 'DBF' 'GRA' 'SA' 'SH' 'EBF']\n"
     ]
    },
    {
     "name": "stderr",
     "output_type": "stream",
     "text": [
      "[10:56:18] task [xgboost.dask]:tcp://10.0.7.89:33706 got new rank 0\n"
     ]
    },
    {
     "name": "stdout",
     "output_type": "stream",
     "text": [
      "training accu.: 1.35\n",
      "saving to .../global/home/users/yanghuikang/projects/upscale/saved_models/ensemble_v1_2/xgboost_ST_Baseline_NT_ensemble_29.json\n",
      "time lapse ... 8 seconds\n",
      "reference model\n"
     ]
    },
    {
     "name": "stderr",
     "output_type": "stream",
     "text": [
      "[10:56:27] task [xgboost.dask]:tcp://10.0.7.89:33706 got new rank 0\n"
     ]
    },
    {
     "name": "stdout",
     "output_type": "stream",
     "text": [
      "training accu.: 1.50\n",
      "saving to .../global/home/users/yanghuikang/projects/upscale/saved_models/ensemble_v1_2/xgboost_ST_Baseline_NT_reference.json\n",
      "time lapse ... 8 seconds\n",
      "\n",
      "ST_CFE_NT\n",
      "ensemble 0\n",
      "No. of unique site: 139\n",
      "No. of site months: 16997\n",
      "Unique MODIS_PFT: ['CRO' 'MF' 'SA' 'DBF' 'Other' 'GRA' 'ENF' 'EBF' 'SH']\n"
     ]
    },
    {
     "name": "stderr",
     "output_type": "stream",
     "text": [
      "[10:56:36] task [xgboost.dask]:tcp://10.0.7.89:33706 got new rank 0\n"
     ]
    },
    {
     "name": "stdout",
     "output_type": "stream",
     "text": [
      "training accu.: 1.27\n",
      "saving to .../global/home/users/yanghuikang/projects/upscale/saved_models/ensemble_v1_2/xgboost_ST_CFE_NT_ensemble_0.json\n",
      "time lapse ... 8 seconds\n",
      "ensemble 1\n",
      "No. of unique site: 153\n",
      "No. of site months: 18143\n",
      "Unique MODIS_PFT: ['CRO' 'GRA' 'SA' 'ENF' 'MF' 'SH' 'EBF' 'DBF' 'Other']\n"
     ]
    },
    {
     "name": "stderr",
     "output_type": "stream",
     "text": [
      "[10:56:45] task [xgboost.dask]:tcp://10.0.7.89:33706 got new rank 0\n"
     ]
    },
    {
     "name": "stdout",
     "output_type": "stream",
     "text": [
      "training accu.: 1.35\n",
      "saving to .../global/home/users/yanghuikang/projects/upscale/saved_models/ensemble_v1_2/xgboost_ST_CFE_NT_ensemble_1.json\n",
      "time lapse ... 8 seconds\n",
      "ensemble 2\n",
      "No. of unique site: 145\n",
      "No. of site months: 18198\n",
      "Unique MODIS_PFT: ['SA' 'CRO' 'GRA' 'ENF' 'SH' 'DBF' 'MF' 'Other' 'EBF']\n"
     ]
    },
    {
     "name": "stderr",
     "output_type": "stream",
     "text": [
      "[10:56:54] task [xgboost.dask]:tcp://10.0.7.89:33706 got new rank 0\n"
     ]
    },
    {
     "name": "stdout",
     "output_type": "stream",
     "text": [
      "training accu.: 1.42\n",
      "saving to .../global/home/users/yanghuikang/projects/upscale/saved_models/ensemble_v1_2/xgboost_ST_CFE_NT_ensemble_2.json\n",
      "time lapse ... 8 seconds\n",
      "ensemble 3\n",
      "No. of unique site: 142\n",
      "No. of site months: 20228\n",
      "Unique MODIS_PFT: ['CRO' 'ENF' 'GRA' 'MF' 'SA' 'DBF' 'SH' 'EBF' 'Other']\n"
     ]
    },
    {
     "name": "stderr",
     "output_type": "stream",
     "text": [
      "[10:57:04] task [xgboost.dask]:tcp://10.0.7.89:33706 got new rank 0\n"
     ]
    },
    {
     "name": "stdout",
     "output_type": "stream",
     "text": [
      "training accu.: 1.24\n",
      "saving to .../global/home/users/yanghuikang/projects/upscale/saved_models/ensemble_v1_2/xgboost_ST_CFE_NT_ensemble_3.json\n",
      "time lapse ... 9 seconds\n",
      "ensemble 4\n",
      "No. of unique site: 139\n",
      "No. of site months: 19286\n",
      "Unique MODIS_PFT: ['SA' 'SH' 'ENF' 'Other' 'CRO' 'DBF' 'MF' 'GRA' 'EBF']\n"
     ]
    },
    {
     "name": "stderr",
     "output_type": "stream",
     "text": [
      "[10:57:14] task [xgboost.dask]:tcp://10.0.7.89:33706 got new rank 0\n"
     ]
    },
    {
     "name": "stdout",
     "output_type": "stream",
     "text": [
      "training accu.: 1.31\n",
      "saving to .../global/home/users/yanghuikang/projects/upscale/saved_models/ensemble_v1_2/xgboost_ST_CFE_NT_ensemble_4.json\n",
      "time lapse ... 9 seconds\n",
      "ensemble 5\n",
      "No. of unique site: 153\n",
      "No. of site months: 18083\n",
      "Unique MODIS_PFT: ['Other' 'CRO' 'SA' 'ENF' 'EBF' 'GRA' 'DBF' 'SH' 'MF']\n"
     ]
    },
    {
     "name": "stderr",
     "output_type": "stream",
     "text": [
      "[10:57:23] task [xgboost.dask]:tcp://10.0.7.89:33706 got new rank 0\n"
     ]
    },
    {
     "name": "stdout",
     "output_type": "stream",
     "text": [
      "training accu.: 1.35\n",
      "saving to .../global/home/users/yanghuikang/projects/upscale/saved_models/ensemble_v1_2/xgboost_ST_CFE_NT_ensemble_5.json\n",
      "time lapse ... 9 seconds\n",
      "ensemble 6\n",
      "No. of unique site: 139\n",
      "No. of site months: 18965\n",
      "Unique MODIS_PFT: ['CRO' 'GRA' 'SA' 'DBF' 'MF' 'SH' 'ENF' 'Other' 'EBF']\n"
     ]
    },
    {
     "name": "stderr",
     "output_type": "stream",
     "text": [
      "[10:57:33] task [xgboost.dask]:tcp://10.0.7.89:33706 got new rank 0\n"
     ]
    },
    {
     "name": "stdout",
     "output_type": "stream",
     "text": [
      "training accu.: 1.39\n",
      "saving to .../global/home/users/yanghuikang/projects/upscale/saved_models/ensemble_v1_2/xgboost_ST_CFE_NT_ensemble_6.json\n",
      "time lapse ... 9 seconds\n",
      "ensemble 7\n",
      "No. of unique site: 148\n",
      "No. of site months: 16848\n",
      "Unique MODIS_PFT: ['Other' 'SA' 'EBF' 'DBF' 'ENF' 'CRO' 'SH' 'GRA' 'MF']\n"
     ]
    },
    {
     "name": "stderr",
     "output_type": "stream",
     "text": [
      "[10:57:43] task [xgboost.dask]:tcp://10.0.7.89:33706 got new rank 0\n"
     ]
    },
    {
     "name": "stdout",
     "output_type": "stream",
     "text": [
      "training accu.: 1.30\n",
      "saving to .../global/home/users/yanghuikang/projects/upscale/saved_models/ensemble_v1_2/xgboost_ST_CFE_NT_ensemble_7.json\n",
      "time lapse ... 8 seconds\n",
      "ensemble 8\n",
      "No. of unique site: 152\n",
      "No. of site months: 17661\n",
      "Unique MODIS_PFT: ['SA' 'DBF' 'Other' 'CRO' 'GRA' 'ENF' 'MF' 'EBF' 'SH']\n"
     ]
    },
    {
     "name": "stderr",
     "output_type": "stream",
     "text": [
      "[10:57:52] task [xgboost.dask]:tcp://10.0.7.89:33706 got new rank 0\n"
     ]
    },
    {
     "name": "stdout",
     "output_type": "stream",
     "text": [
      "training accu.: 1.26\n",
      "saving to .../global/home/users/yanghuikang/projects/upscale/saved_models/ensemble_v1_2/xgboost_ST_CFE_NT_ensemble_8.json\n",
      "time lapse ... 8 seconds\n",
      "ensemble 9\n",
      "No. of unique site: 147\n",
      "No. of site months: 18572\n",
      "Unique MODIS_PFT: ['MF' 'ENF' 'CRO' 'DBF' 'SA' 'EBF' 'SH' 'GRA' 'Other']\n"
     ]
    },
    {
     "name": "stderr",
     "output_type": "stream",
     "text": [
      "[10:58:02] task [xgboost.dask]:tcp://10.0.7.89:33706 got new rank 0\n"
     ]
    },
    {
     "name": "stdout",
     "output_type": "stream",
     "text": [
      "training accu.: 1.22\n",
      "saving to .../global/home/users/yanghuikang/projects/upscale/saved_models/ensemble_v1_2/xgboost_ST_CFE_NT_ensemble_9.json\n",
      "time lapse ... 9 seconds\n",
      "ensemble 10\n",
      "No. of unique site: 145\n",
      "No. of site months: 17686\n",
      "Unique MODIS_PFT: ['ENF' 'SA' 'DBF' 'CRO' 'MF' 'Other' 'GRA' 'SH' 'EBF']\n"
     ]
    },
    {
     "name": "stderr",
     "output_type": "stream",
     "text": [
      "[10:58:11] task [xgboost.dask]:tcp://10.0.7.89:33706 got new rank 0\n"
     ]
    },
    {
     "name": "stdout",
     "output_type": "stream",
     "text": [
      "training accu.: 1.35\n",
      "saving to .../global/home/users/yanghuikang/projects/upscale/saved_models/ensemble_v1_2/xgboost_ST_CFE_NT_ensemble_10.json\n",
      "time lapse ... 8 seconds\n",
      "ensemble 11\n",
      "No. of unique site: 158\n",
      "No. of site months: 17873\n",
      "Unique MODIS_PFT: ['SA' 'DBF' 'GRA' 'Other' 'ENF' 'MF' 'CRO' 'EBF' 'SH']\n"
     ]
    },
    {
     "name": "stderr",
     "output_type": "stream",
     "text": [
      "[10:58:20] task [xgboost.dask]:tcp://10.0.7.89:33706 got new rank 0\n"
     ]
    },
    {
     "name": "stdout",
     "output_type": "stream",
     "text": [
      "training accu.: 1.30\n",
      "saving to .../global/home/users/yanghuikang/projects/upscale/saved_models/ensemble_v1_2/xgboost_ST_CFE_NT_ensemble_11.json\n",
      "time lapse ... 8 seconds\n",
      "ensemble 12\n",
      "No. of unique site: 145\n",
      "No. of site months: 18712\n",
      "Unique MODIS_PFT: ['CRO' 'ENF' 'DBF' 'SA' 'GRA' 'SH' 'MF' 'Other' 'EBF']\n"
     ]
    },
    {
     "name": "stderr",
     "output_type": "stream",
     "text": [
      "[10:58:30] task [xgboost.dask]:tcp://10.0.7.89:33706 got new rank 0\n"
     ]
    },
    {
     "name": "stdout",
     "output_type": "stream",
     "text": [
      "training accu.: 1.33\n",
      "saving to .../global/home/users/yanghuikang/projects/upscale/saved_models/ensemble_v1_2/xgboost_ST_CFE_NT_ensemble_12.json\n",
      "time lapse ... 9 seconds\n",
      "ensemble 13\n",
      "No. of unique site: 146\n",
      "No. of site months: 19729\n",
      "Unique MODIS_PFT: ['SA' 'ENF' 'GRA' 'MF' 'SH' 'DBF' 'CRO' 'Other' 'EBF']\n"
     ]
    },
    {
     "name": "stderr",
     "output_type": "stream",
     "text": [
      "[10:58:40] task [xgboost.dask]:tcp://10.0.7.89:33706 got new rank 0\n"
     ]
    },
    {
     "name": "stdout",
     "output_type": "stream",
     "text": [
      "training accu.: 1.42\n",
      "saving to .../global/home/users/yanghuikang/projects/upscale/saved_models/ensemble_v1_2/xgboost_ST_CFE_NT_ensemble_13.json\n",
      "time lapse ... 9 seconds\n",
      "ensemble 14\n",
      "No. of unique site: 149\n",
      "No. of site months: 18267\n",
      "Unique MODIS_PFT: ['DBF' 'CRO' 'EBF' 'SH' 'GRA' 'Other' 'SA' 'MF' 'ENF']\n"
     ]
    },
    {
     "name": "stderr",
     "output_type": "stream",
     "text": [
      "[10:58:49] task [xgboost.dask]:tcp://10.0.7.89:33706 got new rank 0\n"
     ]
    },
    {
     "name": "stdout",
     "output_type": "stream",
     "text": [
      "training accu.: 1.36\n",
      "saving to .../global/home/users/yanghuikang/projects/upscale/saved_models/ensemble_v1_2/xgboost_ST_CFE_NT_ensemble_14.json\n",
      "time lapse ... 9 seconds\n",
      "ensemble 15\n",
      "No. of unique site: 137\n",
      "No. of site months: 18334\n",
      "Unique MODIS_PFT: ['MF' 'CRO' 'SA' 'DBF' 'GRA' 'Other' 'SH' 'ENF' 'EBF']\n"
     ]
    },
    {
     "name": "stderr",
     "output_type": "stream",
     "text": [
      "[10:58:59] task [xgboost.dask]:tcp://10.0.7.89:33706 got new rank 0\n"
     ]
    },
    {
     "name": "stdout",
     "output_type": "stream",
     "text": [
      "training accu.: 1.25\n",
      "saving to .../global/home/users/yanghuikang/projects/upscale/saved_models/ensemble_v1_2/xgboost_ST_CFE_NT_ensemble_15.json\n",
      "time lapse ... 8 seconds\n",
      "ensemble 16\n",
      "No. of unique site: 150\n",
      "No. of site months: 18314\n",
      "Unique MODIS_PFT: ['Other' 'SA' 'DBF' 'CRO' 'ENF' 'GRA' 'MF' 'SH' 'EBF']\n"
     ]
    },
    {
     "name": "stderr",
     "output_type": "stream",
     "text": [
      "[10:59:08] task [xgboost.dask]:tcp://10.0.7.89:33706 got new rank 0\n"
     ]
    },
    {
     "name": "stdout",
     "output_type": "stream",
     "text": [
      "training accu.: 1.41\n",
      "saving to .../global/home/users/yanghuikang/projects/upscale/saved_models/ensemble_v1_2/xgboost_ST_CFE_NT_ensemble_16.json\n",
      "time lapse ... 9 seconds\n",
      "ensemble 17\n",
      "No. of unique site: 149\n",
      "No. of site months: 18434\n",
      "Unique MODIS_PFT: ['CRO' 'DBF' 'SA' 'GRA' 'ENF' 'MF' 'SH' 'Other' 'EBF']\n"
     ]
    },
    {
     "name": "stderr",
     "output_type": "stream",
     "text": [
      "[10:59:18] task [xgboost.dask]:tcp://10.0.7.89:33706 got new rank 0\n"
     ]
    },
    {
     "name": "stdout",
     "output_type": "stream",
     "text": [
      "training accu.: 1.45\n",
      "saving to .../global/home/users/yanghuikang/projects/upscale/saved_models/ensemble_v1_2/xgboost_ST_CFE_NT_ensemble_17.json\n",
      "time lapse ... 9 seconds\n",
      "ensemble 18\n",
      "No. of unique site: 148\n",
      "No. of site months: 18707\n",
      "Unique MODIS_PFT: ['DBF' 'CRO' 'SA' 'ENF' 'MF' 'Other' 'GRA' 'SH' 'EBF']\n"
     ]
    },
    {
     "name": "stderr",
     "output_type": "stream",
     "text": [
      "[10:59:28] task [xgboost.dask]:tcp://10.0.7.89:33706 got new rank 0\n"
     ]
    },
    {
     "name": "stdout",
     "output_type": "stream",
     "text": [
      "training accu.: 1.30\n",
      "saving to .../global/home/users/yanghuikang/projects/upscale/saved_models/ensemble_v1_2/xgboost_ST_CFE_NT_ensemble_18.json\n",
      "time lapse ... 9 seconds\n",
      "ensemble 19\n",
      "No. of unique site: 147\n",
      "No. of site months: 19895\n",
      "Unique MODIS_PFT: ['SA' 'CRO' 'MF' 'GRA' 'DBF' 'ENF' 'SH' 'EBF' 'Other']\n"
     ]
    },
    {
     "name": "stderr",
     "output_type": "stream",
     "text": [
      "[10:59:37] task [xgboost.dask]:tcp://10.0.7.89:33706 got new rank 0\n"
     ]
    },
    {
     "name": "stdout",
     "output_type": "stream",
     "text": [
      "training accu.: 1.30\n",
      "saving to .../global/home/users/yanghuikang/projects/upscale/saved_models/ensemble_v1_2/xgboost_ST_CFE_NT_ensemble_19.json\n",
      "time lapse ... 9 seconds\n",
      "ensemble 20\n",
      "No. of unique site: 155\n",
      "No. of site months: 17376\n",
      "Unique MODIS_PFT: ['CRO' 'ENF' 'SA' 'DBF' 'SH' 'Other' 'GRA' 'EBF' 'MF']\n"
     ]
    },
    {
     "name": "stderr",
     "output_type": "stream",
     "text": [
      "[10:59:47] task [xgboost.dask]:tcp://10.0.7.89:33706 got new rank 0\n"
     ]
    },
    {
     "name": "stdout",
     "output_type": "stream",
     "text": [
      "training accu.: 1.33\n",
      "saving to .../global/home/users/yanghuikang/projects/upscale/saved_models/ensemble_v1_2/xgboost_ST_CFE_NT_ensemble_20.json\n",
      "time lapse ... 8 seconds\n",
      "ensemble 21\n",
      "No. of unique site: 151\n",
      "No. of site months: 17955\n",
      "Unique MODIS_PFT: ['ENF' 'DBF' 'SH' 'SA' 'MF' 'CRO' 'GRA' 'Other' 'EBF']\n"
     ]
    },
    {
     "name": "stderr",
     "output_type": "stream",
     "text": [
      "[10:59:57] task [xgboost.dask]:tcp://10.0.7.89:33706 got new rank 0\n"
     ]
    },
    {
     "name": "stdout",
     "output_type": "stream",
     "text": [
      "training accu.: 1.37\n",
      "saving to .../global/home/users/yanghuikang/projects/upscale/saved_models/ensemble_v1_2/xgboost_ST_CFE_NT_ensemble_21.json\n",
      "time lapse ... 8 seconds\n",
      "ensemble 22\n",
      "No. of unique site: 146\n",
      "No. of site months: 17935\n",
      "Unique MODIS_PFT: ['SA' 'CRO' 'ENF' 'DBF' 'GRA' 'SH' 'MF' 'EBF' 'Other']\n"
     ]
    },
    {
     "name": "stderr",
     "output_type": "stream",
     "text": [
      "[11:00:06] task [xgboost.dask]:tcp://10.0.7.89:33706 got new rank 0\n"
     ]
    },
    {
     "name": "stdout",
     "output_type": "stream",
     "text": [
      "training accu.: 1.32\n",
      "saving to .../global/home/users/yanghuikang/projects/upscale/saved_models/ensemble_v1_2/xgboost_ST_CFE_NT_ensemble_22.json\n",
      "time lapse ... 8 seconds\n",
      "ensemble 23\n",
      "No. of unique site: 141\n",
      "No. of site months: 16280\n",
      "Unique MODIS_PFT: ['SA' 'DBF' 'GRA' 'MF' 'ENF' 'CRO' 'SH' 'EBF' 'Other']\n"
     ]
    },
    {
     "name": "stderr",
     "output_type": "stream",
     "text": [
      "[11:00:15] task [xgboost.dask]:tcp://10.0.7.89:33706 got new rank 0\n"
     ]
    },
    {
     "name": "stdout",
     "output_type": "stream",
     "text": [
      "training accu.: 1.21\n",
      "saving to .../global/home/users/yanghuikang/projects/upscale/saved_models/ensemble_v1_2/xgboost_ST_CFE_NT_ensemble_23.json\n",
      "time lapse ... 8 seconds\n",
      "ensemble 24\n",
      "No. of unique site: 145\n",
      "No. of site months: 16414\n",
      "Unique MODIS_PFT: ['MF' 'GRA' 'CRO' 'SA' 'Other' 'SH' 'DBF' 'ENF' 'EBF']\n"
     ]
    },
    {
     "name": "stderr",
     "output_type": "stream",
     "text": [
      "[11:00:24] task [xgboost.dask]:tcp://10.0.7.89:33706 got new rank 0\n"
     ]
    },
    {
     "name": "stdout",
     "output_type": "stream",
     "text": [
      "training accu.: 1.23\n",
      "saving to .../global/home/users/yanghuikang/projects/upscale/saved_models/ensemble_v1_2/xgboost_ST_CFE_NT_ensemble_24.json\n",
      "time lapse ... 8 seconds\n",
      "ensemble 25\n",
      "No. of unique site: 150\n",
      "No. of site months: 18192\n",
      "Unique MODIS_PFT: ['DBF' 'SA' 'CRO' 'GRA' 'ENF' 'MF' 'EBF' 'Other' 'SH']\n"
     ]
    },
    {
     "name": "stderr",
     "output_type": "stream",
     "text": [
      "[11:00:34] task [xgboost.dask]:tcp://10.0.7.89:33706 got new rank 0\n"
     ]
    },
    {
     "name": "stdout",
     "output_type": "stream",
     "text": [
      "training accu.: 1.29\n",
      "saving to .../global/home/users/yanghuikang/projects/upscale/saved_models/ensemble_v1_2/xgboost_ST_CFE_NT_ensemble_25.json\n",
      "time lapse ... 9 seconds\n",
      "ensemble 26\n",
      "No. of unique site: 150\n",
      "No. of site months: 18745\n",
      "Unique MODIS_PFT: ['SA' 'ENF' 'CRO' 'DBF' 'Other' 'MF' 'GRA' 'SH' 'EBF']\n"
     ]
    },
    {
     "name": "stderr",
     "output_type": "stream",
     "text": [
      "[11:00:43] task [xgboost.dask]:tcp://10.0.7.89:33706 got new rank 0\n"
     ]
    },
    {
     "name": "stdout",
     "output_type": "stream",
     "text": [
      "training accu.: 1.27\n",
      "saving to .../global/home/users/yanghuikang/projects/upscale/saved_models/ensemble_v1_2/xgboost_ST_CFE_NT_ensemble_26.json\n",
      "time lapse ... 9 seconds\n",
      "ensemble 27\n",
      "No. of unique site: 152\n",
      "No. of site months: 18480\n",
      "Unique MODIS_PFT: ['ENF' 'GRA' 'DBF' 'CRO' 'Other' 'MF' 'SA' 'EBF' 'SH']\n"
     ]
    },
    {
     "name": "stderr",
     "output_type": "stream",
     "text": [
      "[11:00:52] task [xgboost.dask]:tcp://10.0.7.89:33706 got new rank 0\n"
     ]
    },
    {
     "name": "stdout",
     "output_type": "stream",
     "text": [
      "training accu.: 1.33\n",
      "saving to .../global/home/users/yanghuikang/projects/upscale/saved_models/ensemble_v1_2/xgboost_ST_CFE_NT_ensemble_27.json\n",
      "time lapse ... 9 seconds\n",
      "ensemble 28\n",
      "No. of unique site: 142\n",
      "No. of site months: 18364\n",
      "Unique MODIS_PFT: ['SA' 'Other' 'DBF' 'MF' 'ENF' 'CRO' 'SH' 'GRA' 'EBF']\n"
     ]
    },
    {
     "name": "stderr",
     "output_type": "stream",
     "text": [
      "[11:01:02] task [xgboost.dask]:tcp://10.0.7.89:33706 got new rank 0\n"
     ]
    },
    {
     "name": "stdout",
     "output_type": "stream",
     "text": [
      "training accu.: 1.24\n",
      "saving to .../global/home/users/yanghuikang/projects/upscale/saved_models/ensemble_v1_2/xgboost_ST_CFE_NT_ensemble_28.json\n",
      "time lapse ... 9 seconds\n",
      "ensemble 29\n",
      "No. of unique site: 147\n",
      "No. of site months: 16816\n",
      "Unique MODIS_PFT: ['ENF' 'SA' 'DBF' 'CRO' 'GRA' 'MF' 'Other' 'EBF' 'SH']\n"
     ]
    },
    {
     "name": "stderr",
     "output_type": "stream",
     "text": [
      "[11:01:12] task [xgboost.dask]:tcp://10.0.7.89:33706 got new rank 0\n"
     ]
    },
    {
     "name": "stdout",
     "output_type": "stream",
     "text": [
      "training accu.: 1.33\n",
      "saving to .../global/home/users/yanghuikang/projects/upscale/saved_models/ensemble_v1_2/xgboost_ST_CFE_NT_ensemble_29.json\n",
      "time lapse ... 8 seconds\n",
      "reference model\n"
     ]
    },
    {
     "name": "stderr",
     "output_type": "stream",
     "text": [
      "[11:01:20] task [xgboost.dask]:tcp://10.0.7.89:33706 got new rank 0\n"
     ]
    },
    {
     "name": "stdout",
     "output_type": "stream",
     "text": [
      "training accu.: 1.48\n",
      "saving to .../global/home/users/yanghuikang/projects/upscale/saved_models/ensemble_v1_2/xgboost_ST_CFE_NT_reference.json\n",
      "time lapse ... 8 seconds\n",
      "\n",
      "ST_Baseline_DT\n",
      "ensemble 0\n",
      "No. of unique site: 139\n",
      "No. of site months: 16997\n",
      "Unique MODIS_PFT: ['MF' 'Other' 'ENF' 'SA' 'CRO' 'DBF' 'GRA' 'SH' 'EBF']\n"
     ]
    },
    {
     "name": "stderr",
     "output_type": "stream",
     "text": [
      "[11:01:30] task [xgboost.dask]:tcp://10.0.7.89:33706 got new rank 0\n"
     ]
    },
    {
     "name": "stdout",
     "output_type": "stream",
     "text": [
      "training accu.: 1.24\n",
      "saving to .../global/home/users/yanghuikang/projects/upscale/saved_models/ensemble_v1_2/xgboost_ST_Baseline_DT_ensemble_0.json\n",
      "time lapse ... 8 seconds\n",
      "ensemble 1\n",
      "No. of unique site: 153\n",
      "No. of site months: 18143\n",
      "Unique MODIS_PFT: ['SH' 'SA' 'DBF' 'ENF' 'GRA' 'MF' 'CRO' 'Other' 'EBF']\n"
     ]
    },
    {
     "name": "stderr",
     "output_type": "stream",
     "text": [
      "[11:01:39] task [xgboost.dask]:tcp://10.0.7.89:33706 got new rank 0\n"
     ]
    },
    {
     "name": "stdout",
     "output_type": "stream",
     "text": [
      "training accu.: 1.32\n",
      "saving to .../global/home/users/yanghuikang/projects/upscale/saved_models/ensemble_v1_2/xgboost_ST_Baseline_DT_ensemble_1.json\n",
      "time lapse ... 8 seconds\n",
      "ensemble 2\n",
      "No. of unique site: 145\n",
      "No. of site months: 18198\n",
      "Unique MODIS_PFT: ['CRO' 'MF' 'SA' 'DBF' 'GRA' 'ENF' 'SH' 'Other' 'EBF']\n"
     ]
    },
    {
     "name": "stderr",
     "output_type": "stream",
     "text": [
      "[11:01:48] task [xgboost.dask]:tcp://10.0.7.89:33706 got new rank 0\n"
     ]
    },
    {
     "name": "stdout",
     "output_type": "stream",
     "text": [
      "training accu.: 1.36\n",
      "saving to .../global/home/users/yanghuikang/projects/upscale/saved_models/ensemble_v1_2/xgboost_ST_Baseline_DT_ensemble_2.json\n",
      "time lapse ... 8 seconds\n",
      "ensemble 3\n",
      "No. of unique site: 142\n",
      "No. of site months: 20228\n",
      "Unique MODIS_PFT: ['GRA' 'CRO' 'SA' 'ENF' 'DBF' 'MF' 'SH' 'Other' 'EBF']\n"
     ]
    },
    {
     "name": "stderr",
     "output_type": "stream",
     "text": [
      "[11:01:57] task [xgboost.dask]:tcp://10.0.7.89:33706 got new rank 0\n"
     ]
    },
    {
     "name": "stdout",
     "output_type": "stream",
     "text": [
      "training accu.: 1.22\n",
      "saving to .../global/home/users/yanghuikang/projects/upscale/saved_models/ensemble_v1_2/xgboost_ST_Baseline_DT_ensemble_3.json\n",
      "time lapse ... 9 seconds\n",
      "ensemble 4\n",
      "No. of unique site: 139\n",
      "No. of site months: 19286\n",
      "Unique MODIS_PFT: ['CRO' 'MF' 'SA' 'SH' 'ENF' 'GRA' 'DBF' 'EBF' 'Other']\n"
     ]
    },
    {
     "name": "stderr",
     "output_type": "stream",
     "text": [
      "[11:02:07] task [xgboost.dask]:tcp://10.0.7.89:33706 got new rank 0\n"
     ]
    },
    {
     "name": "stdout",
     "output_type": "stream",
     "text": [
      "training accu.: 1.29\n",
      "saving to .../global/home/users/yanghuikang/projects/upscale/saved_models/ensemble_v1_2/xgboost_ST_Baseline_DT_ensemble_4.json\n",
      "time lapse ... 9 seconds\n",
      "ensemble 5\n",
      "No. of unique site: 153\n",
      "No. of site months: 18083\n",
      "Unique MODIS_PFT: ['CRO' 'ENF' 'SH' 'GRA' 'SA' 'MF' 'DBF' 'Other' 'EBF']\n"
     ]
    },
    {
     "name": "stderr",
     "output_type": "stream",
     "text": [
      "[11:02:17] task [xgboost.dask]:tcp://10.0.7.89:33706 got new rank 0\n"
     ]
    },
    {
     "name": "stdout",
     "output_type": "stream",
     "text": [
      "training accu.: 1.33\n",
      "saving to .../global/home/users/yanghuikang/projects/upscale/saved_models/ensemble_v1_2/xgboost_ST_Baseline_DT_ensemble_5.json\n",
      "time lapse ... 8 seconds\n",
      "ensemble 6\n",
      "No. of unique site: 139\n",
      "No. of site months: 18965\n",
      "Unique MODIS_PFT: ['ENF' 'SA' 'EBF' 'CRO' 'DBF' 'Other' 'SH' 'MF' 'GRA']\n"
     ]
    },
    {
     "name": "stderr",
     "output_type": "stream",
     "text": [
      "[11:02:26] task [xgboost.dask]:tcp://10.0.7.89:33706 got new rank 0\n"
     ]
    },
    {
     "name": "stdout",
     "output_type": "stream",
     "text": [
      "training accu.: 1.35\n",
      "saving to .../global/home/users/yanghuikang/projects/upscale/saved_models/ensemble_v1_2/xgboost_ST_Baseline_DT_ensemble_6.json\n",
      "time lapse ... 8 seconds\n",
      "ensemble 7\n",
      "No. of unique site: 148\n",
      "No. of site months: 16848\n",
      "Unique MODIS_PFT: ['CRO' 'SA' 'GRA' 'MF' 'ENF' 'Other' 'DBF' 'EBF' 'SH']\n"
     ]
    },
    {
     "name": "stderr",
     "output_type": "stream",
     "text": [
      "[11:02:36] task [xgboost.dask]:tcp://10.0.7.89:33706 got new rank 0\n"
     ]
    },
    {
     "name": "stdout",
     "output_type": "stream",
     "text": [
      "training accu.: 1.31\n",
      "saving to .../global/home/users/yanghuikang/projects/upscale/saved_models/ensemble_v1_2/xgboost_ST_Baseline_DT_ensemble_7.json\n",
      "time lapse ... 8 seconds\n",
      "ensemble 8\n",
      "No. of unique site: 152\n",
      "No. of site months: 17661\n",
      "Unique MODIS_PFT: ['SA' 'GRA' 'ENF' 'CRO' 'SH' 'EBF' 'MF' 'Other' 'DBF']\n"
     ]
    },
    {
     "name": "stderr",
     "output_type": "stream",
     "text": [
      "[11:02:45] task [xgboost.dask]:tcp://10.0.7.89:33706 got new rank 0\n"
     ]
    },
    {
     "name": "stdout",
     "output_type": "stream",
     "text": [
      "training accu.: 1.20\n",
      "saving to .../global/home/users/yanghuikang/projects/upscale/saved_models/ensemble_v1_2/xgboost_ST_Baseline_DT_ensemble_8.json\n",
      "time lapse ... 8 seconds\n",
      "ensemble 9\n",
      "No. of unique site: 147\n",
      "No. of site months: 18572\n",
      "Unique MODIS_PFT: ['MF' 'GRA' 'Other' 'DBF' 'SH' 'CRO' 'SA' 'ENF' 'EBF']\n"
     ]
    },
    {
     "name": "stderr",
     "output_type": "stream",
     "text": [
      "[11:02:54] task [xgboost.dask]:tcp://10.0.7.89:33706 got new rank 0\n"
     ]
    },
    {
     "name": "stdout",
     "output_type": "stream",
     "text": [
      "training accu.: 1.19\n",
      "saving to .../global/home/users/yanghuikang/projects/upscale/saved_models/ensemble_v1_2/xgboost_ST_Baseline_DT_ensemble_9.json\n",
      "time lapse ... 8 seconds\n",
      "ensemble 10\n",
      "No. of unique site: 145\n",
      "No. of site months: 17686\n",
      "Unique MODIS_PFT: ['EBF' 'SA' 'MF' 'CRO' 'SH' 'ENF' 'GRA' 'DBF' 'Other']\n"
     ]
    },
    {
     "name": "stderr",
     "output_type": "stream",
     "text": [
      "[11:03:03] task [xgboost.dask]:tcp://10.0.7.89:33706 got new rank 0\n"
     ]
    },
    {
     "name": "stdout",
     "output_type": "stream",
     "text": [
      "training accu.: 1.28\n",
      "saving to .../global/home/users/yanghuikang/projects/upscale/saved_models/ensemble_v1_2/xgboost_ST_Baseline_DT_ensemble_10.json\n",
      "time lapse ... 10 seconds\n",
      "ensemble 11\n",
      "No. of unique site: 158\n",
      "No. of site months: 17873\n",
      "Unique MODIS_PFT: ['Other' 'ENF' 'MF' 'CRO' 'SA' 'GRA' 'DBF' 'SH' 'EBF']\n"
     ]
    },
    {
     "name": "stderr",
     "output_type": "stream",
     "text": [
      "[11:03:14] task [xgboost.dask]:tcp://10.0.7.89:33706 got new rank 0\n"
     ]
    },
    {
     "name": "stdout",
     "output_type": "stream",
     "text": [
      "training accu.: 1.26\n",
      "saving to .../global/home/users/yanghuikang/projects/upscale/saved_models/ensemble_v1_2/xgboost_ST_Baseline_DT_ensemble_11.json\n",
      "time lapse ... 8 seconds\n",
      "ensemble 12\n",
      "No. of unique site: 145\n",
      "No. of site months: 18712\n",
      "Unique MODIS_PFT: ['CRO' 'DBF' 'SA' 'SH' 'Other' 'ENF' 'MF' 'GRA' 'EBF']\n"
     ]
    },
    {
     "name": "stderr",
     "output_type": "stream",
     "text": [
      "[11:03:24] task [xgboost.dask]:tcp://10.0.7.89:33706 got new rank 0\n"
     ]
    },
    {
     "name": "stdout",
     "output_type": "stream",
     "text": [
      "training accu.: 1.27\n",
      "saving to .../global/home/users/yanghuikang/projects/upscale/saved_models/ensemble_v1_2/xgboost_ST_Baseline_DT_ensemble_12.json\n",
      "time lapse ... 8 seconds\n",
      "ensemble 13\n",
      "No. of unique site: 146\n",
      "No. of site months: 19729\n",
      "Unique MODIS_PFT: ['ENF' 'CRO' 'SA' 'GRA' 'Other' 'EBF' 'MF' 'DBF' 'SH']\n"
     ]
    },
    {
     "name": "stderr",
     "output_type": "stream",
     "text": [
      "[11:03:33] task [xgboost.dask]:tcp://10.0.7.89:33706 got new rank 0\n"
     ]
    },
    {
     "name": "stdout",
     "output_type": "stream",
     "text": [
      "training accu.: 1.38\n",
      "saving to .../global/home/users/yanghuikang/projects/upscale/saved_models/ensemble_v1_2/xgboost_ST_Baseline_DT_ensemble_13.json\n",
      "time lapse ... 9 seconds\n",
      "ensemble 14\n",
      "No. of unique site: 149\n",
      "No. of site months: 18267\n",
      "Unique MODIS_PFT: ['SA' 'MF' 'DBF' 'ENF' 'Other' 'CRO' 'SH' 'GRA' 'EBF']\n"
     ]
    },
    {
     "name": "stderr",
     "output_type": "stream",
     "text": [
      "[11:03:43] task [xgboost.dask]:tcp://10.0.7.89:33706 got new rank 0\n"
     ]
    },
    {
     "name": "stdout",
     "output_type": "stream",
     "text": [
      "training accu.: 1.34\n",
      "saving to .../global/home/users/yanghuikang/projects/upscale/saved_models/ensemble_v1_2/xgboost_ST_Baseline_DT_ensemble_14.json\n",
      "time lapse ... 8 seconds\n",
      "ensemble 15\n",
      "No. of unique site: 137\n",
      "No. of site months: 18334\n",
      "Unique MODIS_PFT: ['Other' 'ENF' 'DBF' 'SA' 'CRO' 'GRA' 'MF' 'SH' 'EBF']\n"
     ]
    },
    {
     "name": "stderr",
     "output_type": "stream",
     "text": [
      "[11:03:52] task [xgboost.dask]:tcp://10.0.7.89:33706 got new rank 0\n"
     ]
    },
    {
     "name": "stdout",
     "output_type": "stream",
     "text": [
      "training accu.: 1.20\n",
      "saving to .../global/home/users/yanghuikang/projects/upscale/saved_models/ensemble_v1_2/xgboost_ST_Baseline_DT_ensemble_15.json\n",
      "time lapse ... 8 seconds\n",
      "ensemble 16\n",
      "No. of unique site: 150\n",
      "No. of site months: 18314\n",
      "Unique MODIS_PFT: ['Other' 'SA' 'MF' 'SH' 'CRO' 'GRA' 'DBF' 'ENF' 'EBF']\n"
     ]
    },
    {
     "name": "stderr",
     "output_type": "stream",
     "text": [
      "[11:04:01] task [xgboost.dask]:tcp://10.0.7.89:33706 got new rank 0\n"
     ]
    },
    {
     "name": "stdout",
     "output_type": "stream",
     "text": [
      "training accu.: 1.35\n",
      "saving to .../global/home/users/yanghuikang/projects/upscale/saved_models/ensemble_v1_2/xgboost_ST_Baseline_DT_ensemble_16.json\n",
      "time lapse ... 8 seconds\n",
      "ensemble 17\n",
      "No. of unique site: 149\n",
      "No. of site months: 18434\n",
      "Unique MODIS_PFT: ['CRO' 'DBF' 'SA' 'Other' 'ENF' 'GRA' 'MF' 'EBF' 'SH']\n"
     ]
    },
    {
     "name": "stderr",
     "output_type": "stream",
     "text": [
      "[11:04:11] task [xgboost.dask]:tcp://10.0.7.89:33706 got new rank 0\n"
     ]
    },
    {
     "name": "stdout",
     "output_type": "stream",
     "text": [
      "training accu.: 1.41\n",
      "saving to .../global/home/users/yanghuikang/projects/upscale/saved_models/ensemble_v1_2/xgboost_ST_Baseline_DT_ensemble_17.json\n",
      "time lapse ... 8 seconds\n",
      "ensemble 18\n",
      "No. of unique site: 148\n",
      "No. of site months: 18707\n",
      "Unique MODIS_PFT: ['MF' 'DBF' 'SA' 'CRO' 'SH' 'GRA' 'Other' 'EBF' 'ENF']\n"
     ]
    },
    {
     "name": "stderr",
     "output_type": "stream",
     "text": [
      "[11:04:20] task [xgboost.dask]:tcp://10.0.7.89:33706 got new rank 0\n"
     ]
    },
    {
     "name": "stdout",
     "output_type": "stream",
     "text": [
      "training accu.: 1.26\n",
      "saving to .../global/home/users/yanghuikang/projects/upscale/saved_models/ensemble_v1_2/xgboost_ST_Baseline_DT_ensemble_18.json\n",
      "time lapse ... 8 seconds\n",
      "ensemble 19\n",
      "No. of unique site: 147\n",
      "No. of site months: 19895\n",
      "Unique MODIS_PFT: ['SA' 'CRO' 'SH' 'ENF' 'MF' 'DBF' 'GRA' 'Other' 'EBF']\n"
     ]
    },
    {
     "name": "stderr",
     "output_type": "stream",
     "text": [
      "[11:04:30] task [xgboost.dask]:tcp://10.0.7.89:33706 got new rank 0\n"
     ]
    },
    {
     "name": "stdout",
     "output_type": "stream",
     "text": [
      "training accu.: 1.26\n",
      "saving to .../global/home/users/yanghuikang/projects/upscale/saved_models/ensemble_v1_2/xgboost_ST_Baseline_DT_ensemble_19.json\n",
      "time lapse ... 9 seconds\n",
      "ensemble 20\n",
      "No. of unique site: 155\n",
      "No. of site months: 17376\n",
      "Unique MODIS_PFT: ['ENF' 'CRO' 'DBF' 'SA' 'SH' 'GRA' 'EBF' 'MF' 'Other']\n"
     ]
    },
    {
     "name": "stderr",
     "output_type": "stream",
     "text": [
      "[11:04:40] task [xgboost.dask]:tcp://10.0.7.89:33706 got new rank 0\n"
     ]
    },
    {
     "name": "stdout",
     "output_type": "stream",
     "text": [
      "training accu.: 1.31\n",
      "saving to .../global/home/users/yanghuikang/projects/upscale/saved_models/ensemble_v1_2/xgboost_ST_Baseline_DT_ensemble_20.json\n",
      "time lapse ... 8 seconds\n",
      "ensemble 21\n",
      "No. of unique site: 151\n",
      "No. of site months: 17955\n",
      "Unique MODIS_PFT: ['SA' 'MF' 'CRO' 'Other' 'DBF' 'GRA' 'ENF' 'SH' 'EBF']\n"
     ]
    },
    {
     "name": "stderr",
     "output_type": "stream",
     "text": [
      "[11:04:49] task [xgboost.dask]:tcp://10.0.7.89:33706 got new rank 0\n"
     ]
    },
    {
     "name": "stdout",
     "output_type": "stream",
     "text": [
      "training accu.: 1.33\n",
      "saving to .../global/home/users/yanghuikang/projects/upscale/saved_models/ensemble_v1_2/xgboost_ST_Baseline_DT_ensemble_21.json\n",
      "time lapse ... 8 seconds\n",
      "ensemble 22\n",
      "No. of unique site: 146\n",
      "No. of site months: 17935\n",
      "Unique MODIS_PFT: ['CRO' 'ENF' 'EBF' 'GRA' 'SA' 'MF' 'SH' 'DBF' 'Other']\n"
     ]
    },
    {
     "name": "stderr",
     "output_type": "stream",
     "text": [
      "[11:04:58] task [xgboost.dask]:tcp://10.0.7.89:33706 got new rank 0\n"
     ]
    },
    {
     "name": "stdout",
     "output_type": "stream",
     "text": [
      "training accu.: 1.30\n",
      "saving to .../global/home/users/yanghuikang/projects/upscale/saved_models/ensemble_v1_2/xgboost_ST_Baseline_DT_ensemble_22.json\n",
      "time lapse ... 8 seconds\n",
      "ensemble 23\n",
      "No. of unique site: 141\n",
      "No. of site months: 16280\n",
      "Unique MODIS_PFT: ['DBF' 'SA' 'CRO' 'MF' 'SH' 'GRA' 'Other' 'ENF' 'EBF']\n"
     ]
    },
    {
     "name": "stderr",
     "output_type": "stream",
     "text": [
      "[11:05:08] task [xgboost.dask]:tcp://10.0.7.89:33706 got new rank 0\n"
     ]
    },
    {
     "name": "stdout",
     "output_type": "stream",
     "text": [
      "training accu.: 1.16\n",
      "saving to .../global/home/users/yanghuikang/projects/upscale/saved_models/ensemble_v1_2/xgboost_ST_Baseline_DT_ensemble_23.json\n",
      "time lapse ... 8 seconds\n",
      "ensemble 24\n",
      "No. of unique site: 145\n",
      "No. of site months: 16414\n",
      "Unique MODIS_PFT: ['Other' 'DBF' 'SA' 'MF' 'CRO' 'ENF' 'SH' 'GRA' 'EBF']\n"
     ]
    },
    {
     "name": "stderr",
     "output_type": "stream",
     "text": [
      "[11:05:16] task [xgboost.dask]:tcp://10.0.7.89:33706 got new rank 0\n"
     ]
    },
    {
     "name": "stdout",
     "output_type": "stream",
     "text": [
      "training accu.: 1.20\n",
      "saving to .../global/home/users/yanghuikang/projects/upscale/saved_models/ensemble_v1_2/xgboost_ST_Baseline_DT_ensemble_24.json\n",
      "time lapse ... 8 seconds\n",
      "ensemble 25\n",
      "No. of unique site: 150\n",
      "No. of site months: 18192\n",
      "Unique MODIS_PFT: ['GRA' 'CRO' 'DBF' 'MF' 'SA' 'Other' 'ENF' 'EBF' 'SH']\n"
     ]
    },
    {
     "name": "stderr",
     "output_type": "stream",
     "text": [
      "[11:05:25] task [xgboost.dask]:tcp://10.0.7.89:33706 got new rank 0\n"
     ]
    },
    {
     "name": "stdout",
     "output_type": "stream",
     "text": [
      "training accu.: 1.28\n",
      "saving to .../global/home/users/yanghuikang/projects/upscale/saved_models/ensemble_v1_2/xgboost_ST_Baseline_DT_ensemble_25.json\n",
      "time lapse ... 8 seconds\n",
      "ensemble 26\n",
      "No. of unique site: 150\n",
      "No. of site months: 18745\n",
      "Unique MODIS_PFT: ['SA' 'GRA' 'CRO' 'ENF' 'DBF' 'SH' 'MF' 'Other' 'EBF']\n"
     ]
    },
    {
     "name": "stderr",
     "output_type": "stream",
     "text": [
      "[11:05:35] task [xgboost.dask]:tcp://10.0.7.89:33706 got new rank 0\n"
     ]
    },
    {
     "name": "stdout",
     "output_type": "stream",
     "text": [
      "training accu.: 1.23\n",
      "saving to .../global/home/users/yanghuikang/projects/upscale/saved_models/ensemble_v1_2/xgboost_ST_Baseline_DT_ensemble_26.json\n",
      "time lapse ... 9 seconds\n",
      "ensemble 27\n",
      "No. of unique site: 152\n",
      "No. of site months: 18480\n",
      "Unique MODIS_PFT: ['CRO' 'Other' 'SH' 'SA' 'ENF' 'EBF' 'MF' 'DBF' 'GRA']\n"
     ]
    },
    {
     "name": "stderr",
     "output_type": "stream",
     "text": [
      "[11:05:44] task [xgboost.dask]:tcp://10.0.7.89:33706 got new rank 0\n"
     ]
    },
    {
     "name": "stdout",
     "output_type": "stream",
     "text": [
      "training accu.: 1.31\n",
      "saving to .../global/home/users/yanghuikang/projects/upscale/saved_models/ensemble_v1_2/xgboost_ST_Baseline_DT_ensemble_27.json\n",
      "time lapse ... 8 seconds\n",
      "ensemble 28\n",
      "No. of unique site: 142\n",
      "No. of site months: 18364\n",
      "Unique MODIS_PFT: ['MF' 'SH' 'ENF' 'SA' 'DBF' 'EBF' 'CRO' 'GRA' 'Other']\n"
     ]
    },
    {
     "name": "stderr",
     "output_type": "stream",
     "text": [
      "[11:05:54] task [xgboost.dask]:tcp://10.0.7.89:33706 got new rank 0\n"
     ]
    },
    {
     "name": "stdout",
     "output_type": "stream",
     "text": [
      "training accu.: 1.22\n",
      "saving to .../global/home/users/yanghuikang/projects/upscale/saved_models/ensemble_v1_2/xgboost_ST_Baseline_DT_ensemble_28.json\n",
      "time lapse ... 9 seconds\n",
      "ensemble 29\n",
      "No. of unique site: 147\n",
      "No. of site months: 16816\n",
      "Unique MODIS_PFT: ['SA' 'CRO' 'GRA' 'MF' 'Other' 'ENF' 'SH' 'DBF' 'EBF']\n"
     ]
    },
    {
     "name": "stderr",
     "output_type": "stream",
     "text": [
      "[11:06:03] task [xgboost.dask]:tcp://10.0.7.89:33706 got new rank 0\n"
     ]
    },
    {
     "name": "stdout",
     "output_type": "stream",
     "text": [
      "training accu.: 1.30\n",
      "saving to .../global/home/users/yanghuikang/projects/upscale/saved_models/ensemble_v1_2/xgboost_ST_Baseline_DT_ensemble_29.json\n",
      "time lapse ... 8 seconds\n",
      "reference model\n"
     ]
    },
    {
     "name": "stderr",
     "output_type": "stream",
     "text": [
      "[11:06:12] task [xgboost.dask]:tcp://10.0.7.89:33706 got new rank 0\n"
     ]
    },
    {
     "name": "stdout",
     "output_type": "stream",
     "text": [
      "training accu.: 1.43\n",
      "saving to .../global/home/users/yanghuikang/projects/upscale/saved_models/ensemble_v1_2/xgboost_ST_Baseline_DT_reference.json\n",
      "time lapse ... 8 seconds\n",
      "\n",
      "ST_CFE_DT\n",
      "ensemble 0\n",
      "No. of unique site: 139\n",
      "No. of site months: 16997\n",
      "Unique MODIS_PFT: ['MF' 'SA' 'GRA' 'DBF' 'Other' 'CRO' 'ENF' 'SH' 'EBF']\n"
     ]
    },
    {
     "name": "stderr",
     "output_type": "stream",
     "text": [
      "[11:06:21] task [xgboost.dask]:tcp://10.0.7.89:33706 got new rank 0\n"
     ]
    },
    {
     "name": "stdout",
     "output_type": "stream",
     "text": [
      "training accu.: 1.22\n",
      "saving to .../global/home/users/yanghuikang/projects/upscale/saved_models/ensemble_v1_2/xgboost_ST_CFE_DT_ensemble_0.json\n",
      "time lapse ... 8 seconds\n",
      "ensemble 1\n",
      "No. of unique site: 153\n",
      "No. of site months: 18143\n",
      "Unique MODIS_PFT: ['SH' 'DBF' 'SA' 'CRO' 'MF' 'ENF' 'GRA' 'Other' 'EBF']\n"
     ]
    },
    {
     "name": "stderr",
     "output_type": "stream",
     "text": [
      "[11:06:30] task [xgboost.dask]:tcp://10.0.7.89:33706 got new rank 0\n"
     ]
    },
    {
     "name": "stdout",
     "output_type": "stream",
     "text": [
      "training accu.: 1.30\n",
      "saving to .../global/home/users/yanghuikang/projects/upscale/saved_models/ensemble_v1_2/xgboost_ST_CFE_DT_ensemble_1.json\n",
      "time lapse ... 9 seconds\n",
      "ensemble 2\n",
      "No. of unique site: 145\n",
      "No. of site months: 18198\n",
      "Unique MODIS_PFT: ['CRO' 'MF' 'SH' 'DBF' 'SA' 'ENF' 'Other' 'GRA' 'EBF']\n"
     ]
    },
    {
     "name": "stderr",
     "output_type": "stream",
     "text": [
      "[11:06:40] task [xgboost.dask]:tcp://10.0.7.89:33706 got new rank 0\n"
     ]
    },
    {
     "name": "stdout",
     "output_type": "stream",
     "text": [
      "training accu.: 1.34\n",
      "saving to .../global/home/users/yanghuikang/projects/upscale/saved_models/ensemble_v1_2/xgboost_ST_CFE_DT_ensemble_2.json\n",
      "time lapse ... 9 seconds\n",
      "ensemble 3\n",
      "No. of unique site: 142\n",
      "No. of site months: 20228\n",
      "Unique MODIS_PFT: ['ENF' 'SA' 'CRO' 'MF' 'GRA' 'SH' 'DBF' 'Other' 'EBF']\n"
     ]
    },
    {
     "name": "stderr",
     "output_type": "stream",
     "text": [
      "[11:06:50] task [xgboost.dask]:tcp://10.0.7.89:33706 got new rank 0\n"
     ]
    },
    {
     "name": "stdout",
     "output_type": "stream",
     "text": [
      "training accu.: 1.21\n",
      "saving to .../global/home/users/yanghuikang/projects/upscale/saved_models/ensemble_v1_2/xgboost_ST_CFE_DT_ensemble_3.json\n",
      "time lapse ... 9 seconds\n",
      "ensemble 4\n",
      "No. of unique site: 139\n",
      "No. of site months: 19286\n",
      "Unique MODIS_PFT: ['SA' 'GRA' 'CRO' 'DBF' 'ENF' 'SH' 'MF' 'EBF' 'Other']\n"
     ]
    },
    {
     "name": "stderr",
     "output_type": "stream",
     "text": [
      "[11:07:00] task [xgboost.dask]:tcp://10.0.7.89:33706 got new rank 0\n"
     ]
    },
    {
     "name": "stdout",
     "output_type": "stream",
     "text": [
      "training accu.: 1.28\n",
      "saving to .../global/home/users/yanghuikang/projects/upscale/saved_models/ensemble_v1_2/xgboost_ST_CFE_DT_ensemble_4.json\n",
      "time lapse ... 9 seconds\n",
      "ensemble 5\n",
      "No. of unique site: 153\n",
      "No. of site months: 18083\n",
      "Unique MODIS_PFT: ['SA' 'CRO' 'Other' 'SH' 'GRA' 'ENF' 'EBF' 'MF' 'DBF']\n"
     ]
    },
    {
     "name": "stderr",
     "output_type": "stream",
     "text": [
      "[11:07:10] task [xgboost.dask]:tcp://10.0.7.89:33706 got new rank 0\n"
     ]
    },
    {
     "name": "stdout",
     "output_type": "stream",
     "text": [
      "training accu.: 1.31\n",
      "saving to .../global/home/users/yanghuikang/projects/upscale/saved_models/ensemble_v1_2/xgboost_ST_CFE_DT_ensemble_5.json\n",
      "time lapse ... 9 seconds\n",
      "ensemble 6\n",
      "No. of unique site: 139\n",
      "No. of site months: 18965\n",
      "Unique MODIS_PFT: ['ENF' 'CRO' 'SA' 'SH' 'DBF' 'EBF' 'MF' 'GRA' 'Other']\n"
     ]
    },
    {
     "name": "stderr",
     "output_type": "stream",
     "text": [
      "[11:07:19] task [xgboost.dask]:tcp://10.0.7.89:33706 got new rank 0\n"
     ]
    },
    {
     "name": "stdout",
     "output_type": "stream",
     "text": [
      "training accu.: 1.34\n",
      "saving to .../global/home/users/yanghuikang/projects/upscale/saved_models/ensemble_v1_2/xgboost_ST_CFE_DT_ensemble_6.json\n",
      "time lapse ... 9 seconds\n",
      "ensemble 7\n",
      "No. of unique site: 148\n",
      "No. of site months: 16848\n",
      "Unique MODIS_PFT: ['Other' 'ENF' 'SA' 'GRA' 'MF' 'DBF' 'CRO' 'SH' 'EBF']\n"
     ]
    },
    {
     "name": "stderr",
     "output_type": "stream",
     "text": [
      "[11:07:29] task [xgboost.dask]:tcp://10.0.7.89:33706 got new rank 0\n"
     ]
    },
    {
     "name": "stdout",
     "output_type": "stream",
     "text": [
      "training accu.: 1.29\n",
      "saving to .../global/home/users/yanghuikang/projects/upscale/saved_models/ensemble_v1_2/xgboost_ST_CFE_DT_ensemble_7.json\n",
      "time lapse ... 8 seconds\n",
      "ensemble 8\n",
      "No. of unique site: 152\n",
      "No. of site months: 17661\n",
      "Unique MODIS_PFT: ['MF' 'CRO' 'SA' 'GRA' 'Other' 'DBF' 'SH' 'ENF' 'EBF']\n"
     ]
    },
    {
     "name": "stderr",
     "output_type": "stream",
     "text": [
      "[11:07:38] task [xgboost.dask]:tcp://10.0.7.89:33706 got new rank 0\n"
     ]
    },
    {
     "name": "stdout",
     "output_type": "stream",
     "text": [
      "training accu.: 1.19\n",
      "saving to .../global/home/users/yanghuikang/projects/upscale/saved_models/ensemble_v1_2/xgboost_ST_CFE_DT_ensemble_8.json\n",
      "time lapse ... 8 seconds\n",
      "ensemble 9\n",
      "No. of unique site: 147\n",
      "No. of site months: 18572\n",
      "Unique MODIS_PFT: ['SA' 'EBF' 'DBF' 'MF' 'ENF' 'CRO' 'Other' 'SH' 'GRA']\n"
     ]
    },
    {
     "name": "stderr",
     "output_type": "stream",
     "text": [
      "[11:07:48] task [xgboost.dask]:tcp://10.0.7.89:33706 got new rank 0\n"
     ]
    },
    {
     "name": "stdout",
     "output_type": "stream",
     "text": [
      "training accu.: 1.17\n",
      "saving to .../global/home/users/yanghuikang/projects/upscale/saved_models/ensemble_v1_2/xgboost_ST_CFE_DT_ensemble_9.json\n",
      "time lapse ... 9 seconds\n",
      "ensemble 10\n",
      "No. of unique site: 145\n",
      "No. of site months: 17686\n",
      "Unique MODIS_PFT: ['DBF' 'CRO' 'MF' 'SH' 'Other' 'GRA' 'SA' 'ENF' 'EBF']\n"
     ]
    },
    {
     "name": "stderr",
     "output_type": "stream",
     "text": [
      "[11:07:58] task [xgboost.dask]:tcp://10.0.7.89:33706 got new rank 0\n"
     ]
    },
    {
     "name": "stdout",
     "output_type": "stream",
     "text": [
      "training accu.: 1.27\n",
      "saving to .../global/home/users/yanghuikang/projects/upscale/saved_models/ensemble_v1_2/xgboost_ST_CFE_DT_ensemble_10.json\n",
      "time lapse ... 9 seconds\n",
      "ensemble 11\n",
      "No. of unique site: 158\n",
      "No. of site months: 17873\n",
      "Unique MODIS_PFT: ['SA' 'MF' 'GRA' 'Other' 'CRO' 'ENF' 'DBF' 'EBF' 'SH']\n"
     ]
    },
    {
     "name": "stderr",
     "output_type": "stream",
     "text": [
      "[11:08:07] task [xgboost.dask]:tcp://10.0.7.89:33706 got new rank 0\n"
     ]
    },
    {
     "name": "stdout",
     "output_type": "stream",
     "text": [
      "training accu.: 1.25\n",
      "saving to .../global/home/users/yanghuikang/projects/upscale/saved_models/ensemble_v1_2/xgboost_ST_CFE_DT_ensemble_11.json\n",
      "time lapse ... 9 seconds\n",
      "ensemble 12\n",
      "No. of unique site: 145\n",
      "No. of site months: 18712\n",
      "Unique MODIS_PFT: ['ENF' 'SH' 'GRA' 'SA' 'Other' 'CRO' 'DBF' 'MF' 'EBF']\n"
     ]
    },
    {
     "name": "stderr",
     "output_type": "stream",
     "text": [
      "[11:08:17] task [xgboost.dask]:tcp://10.0.7.89:33706 got new rank 0\n"
     ]
    },
    {
     "name": "stdout",
     "output_type": "stream",
     "text": [
      "training accu.: 1.25\n",
      "saving to .../global/home/users/yanghuikang/projects/upscale/saved_models/ensemble_v1_2/xgboost_ST_CFE_DT_ensemble_12.json\n",
      "time lapse ... 9 seconds\n",
      "ensemble 13\n",
      "No. of unique site: 146\n",
      "No. of site months: 19729\n",
      "Unique MODIS_PFT: ['MF' 'CRO' 'ENF' 'GRA' 'SA' 'Other' 'SH' 'DBF' 'EBF']\n"
     ]
    },
    {
     "name": "stderr",
     "output_type": "stream",
     "text": [
      "[11:08:27] task [xgboost.dask]:tcp://10.0.7.89:33706 got new rank 0\n"
     ]
    },
    {
     "name": "stdout",
     "output_type": "stream",
     "text": [
      "training accu.: 1.37\n",
      "saving to .../global/home/users/yanghuikang/projects/upscale/saved_models/ensemble_v1_2/xgboost_ST_CFE_DT_ensemble_13.json\n",
      "time lapse ... 9 seconds\n",
      "ensemble 14\n",
      "No. of unique site: 149\n",
      "No. of site months: 18267\n",
      "Unique MODIS_PFT: ['SA' 'DBF' 'ENF' 'CRO' 'Other' 'GRA' 'SH' 'MF' 'EBF']\n"
     ]
    },
    {
     "name": "stderr",
     "output_type": "stream",
     "text": [
      "[11:08:37] task [xgboost.dask]:tcp://10.0.7.89:33706 got new rank 0\n"
     ]
    },
    {
     "name": "stdout",
     "output_type": "stream",
     "text": [
      "training accu.: 1.32\n",
      "saving to .../global/home/users/yanghuikang/projects/upscale/saved_models/ensemble_v1_2/xgboost_ST_CFE_DT_ensemble_14.json\n",
      "time lapse ... 9 seconds\n",
      "ensemble 15\n",
      "No. of unique site: 137\n",
      "No. of site months: 18334\n",
      "Unique MODIS_PFT: ['SA' 'ENF' 'CRO' 'MF' 'GRA' 'Other' 'SH' 'DBF' 'EBF']\n"
     ]
    },
    {
     "name": "stderr",
     "output_type": "stream",
     "text": [
      "[11:08:47] task [xgboost.dask]:tcp://10.0.7.89:33706 got new rank 0\n"
     ]
    },
    {
     "name": "stdout",
     "output_type": "stream",
     "text": [
      "training accu.: 1.19\n",
      "saving to .../global/home/users/yanghuikang/projects/upscale/saved_models/ensemble_v1_2/xgboost_ST_CFE_DT_ensemble_15.json\n",
      "time lapse ... 9 seconds\n",
      "ensemble 16\n",
      "No. of unique site: 150\n",
      "No. of site months: 18314\n",
      "Unique MODIS_PFT: ['CRO' 'ENF' 'SA' 'Other' 'GRA' 'MF' 'SH' 'DBF' 'EBF']\n"
     ]
    },
    {
     "name": "stderr",
     "output_type": "stream",
     "text": [
      "[11:08:57] task [xgboost.dask]:tcp://10.0.7.89:33706 got new rank 0\n"
     ]
    },
    {
     "name": "stdout",
     "output_type": "stream",
     "text": [
      "training accu.: 1.35\n",
      "saving to .../global/home/users/yanghuikang/projects/upscale/saved_models/ensemble_v1_2/xgboost_ST_CFE_DT_ensemble_16.json\n",
      "time lapse ... 9 seconds\n",
      "ensemble 17\n",
      "No. of unique site: 149\n",
      "No. of site months: 18434\n",
      "Unique MODIS_PFT: ['CRO' 'GRA' 'SA' 'MF' 'DBF' 'EBF' 'ENF' 'SH' 'Other']\n"
     ]
    },
    {
     "name": "stderr",
     "output_type": "stream",
     "text": [
      "[11:09:06] task [xgboost.dask]:tcp://10.0.7.89:33706 got new rank 0\n"
     ]
    },
    {
     "name": "stdout",
     "output_type": "stream",
     "text": [
      "training accu.: 1.39\n",
      "saving to .../global/home/users/yanghuikang/projects/upscale/saved_models/ensemble_v1_2/xgboost_ST_CFE_DT_ensemble_17.json\n",
      "time lapse ... 9 seconds\n",
      "ensemble 18\n",
      "No. of unique site: 148\n",
      "No. of site months: 18707\n",
      "Unique MODIS_PFT: ['CRO' 'DBF' 'SA' 'ENF' 'MF' 'Other' 'GRA' 'SH' 'EBF']\n"
     ]
    },
    {
     "name": "stderr",
     "output_type": "stream",
     "text": [
      "[11:09:16] task [xgboost.dask]:tcp://10.0.7.89:33706 got new rank 0\n"
     ]
    },
    {
     "name": "stdout",
     "output_type": "stream",
     "text": [
      "training accu.: 1.25\n",
      "saving to .../global/home/users/yanghuikang/projects/upscale/saved_models/ensemble_v1_2/xgboost_ST_CFE_DT_ensemble_18.json\n",
      "time lapse ... 9 seconds\n",
      "ensemble 19\n",
      "No. of unique site: 147\n",
      "No. of site months: 19895\n",
      "Unique MODIS_PFT: ['SA' 'ENF' 'MF' 'Other' 'CRO' 'DBF' 'GRA' 'SH' 'EBF']\n"
     ]
    },
    {
     "name": "stderr",
     "output_type": "stream",
     "text": [
      "[11:09:25] task [xgboost.dask]:tcp://10.0.7.89:33706 got new rank 0\n"
     ]
    },
    {
     "name": "stdout",
     "output_type": "stream",
     "text": [
      "training accu.: 1.26\n",
      "saving to .../global/home/users/yanghuikang/projects/upscale/saved_models/ensemble_v1_2/xgboost_ST_CFE_DT_ensemble_19.json\n",
      "time lapse ... 9 seconds\n",
      "ensemble 20\n",
      "No. of unique site: 155\n",
      "No. of site months: 17376\n",
      "Unique MODIS_PFT: ['SA' 'MF' 'CRO' 'DBF' 'ENF' 'SH' 'Other' 'GRA' 'EBF']\n"
     ]
    },
    {
     "name": "stderr",
     "output_type": "stream",
     "text": [
      "[11:09:36] task [xgboost.dask]:tcp://10.0.7.89:33706 got new rank 0\n"
     ]
    },
    {
     "name": "stdout",
     "output_type": "stream",
     "text": [
      "training accu.: 1.29\n",
      "saving to .../global/home/users/yanghuikang/projects/upscale/saved_models/ensemble_v1_2/xgboost_ST_CFE_DT_ensemble_20.json\n",
      "time lapse ... 8 seconds\n",
      "ensemble 21\n",
      "No. of unique site: 151\n",
      "No. of site months: 17955\n",
      "Unique MODIS_PFT: ['SH' 'SA' 'DBF' 'CRO' 'MF' 'Other' 'GRA' 'ENF' 'EBF']\n"
     ]
    },
    {
     "name": "stderr",
     "output_type": "stream",
     "text": [
      "[11:09:45] task [xgboost.dask]:tcp://10.0.7.89:33706 got new rank 0\n"
     ]
    },
    {
     "name": "stdout",
     "output_type": "stream",
     "text": [
      "training accu.: 1.31\n",
      "saving to .../global/home/users/yanghuikang/projects/upscale/saved_models/ensemble_v1_2/xgboost_ST_CFE_DT_ensemble_21.json\n",
      "time lapse ... 9 seconds\n",
      "ensemble 22\n",
      "No. of unique site: 146\n",
      "No. of site months: 17935\n",
      "Unique MODIS_PFT: ['SA' 'GRA' 'ENF' 'CRO' 'EBF' 'MF' 'SH' 'DBF' 'Other']\n"
     ]
    },
    {
     "name": "stderr",
     "output_type": "stream",
     "text": [
      "[11:09:55] task [xgboost.dask]:tcp://10.0.7.89:33706 got new rank 0\n"
     ]
    },
    {
     "name": "stdout",
     "output_type": "stream",
     "text": [
      "training accu.: 1.29\n",
      "saving to .../global/home/users/yanghuikang/projects/upscale/saved_models/ensemble_v1_2/xgboost_ST_CFE_DT_ensemble_22.json\n",
      "time lapse ... 9 seconds\n",
      "ensemble 23\n",
      "No. of unique site: 141\n",
      "No. of site months: 16280\n",
      "Unique MODIS_PFT: ['CRO' 'SA' 'GRA' 'MF' 'EBF' 'ENF' 'DBF' 'SH' 'Other']\n"
     ]
    },
    {
     "name": "stderr",
     "output_type": "stream",
     "text": [
      "[11:10:04] task [xgboost.dask]:tcp://10.0.7.89:33706 got new rank 0\n"
     ]
    },
    {
     "name": "stdout",
     "output_type": "stream",
     "text": [
      "training accu.: 1.14\n",
      "saving to .../global/home/users/yanghuikang/projects/upscale/saved_models/ensemble_v1_2/xgboost_ST_CFE_DT_ensemble_23.json\n",
      "time lapse ... 8 seconds\n",
      "ensemble 24\n",
      "No. of unique site: 145\n",
      "No. of site months: 16414\n",
      "Unique MODIS_PFT: ['EBF' 'ENF' 'SA' 'MF' 'DBF' 'GRA' 'SH' 'CRO' 'Other']\n"
     ]
    },
    {
     "name": "stderr",
     "output_type": "stream",
     "text": [
      "[11:10:14] task [xgboost.dask]:tcp://10.0.7.89:33706 got new rank 0\n"
     ]
    },
    {
     "name": "stdout",
     "output_type": "stream",
     "text": [
      "training accu.: 1.18\n",
      "saving to .../global/home/users/yanghuikang/projects/upscale/saved_models/ensemble_v1_2/xgboost_ST_CFE_DT_ensemble_24.json\n",
      "time lapse ... 8 seconds\n",
      "ensemble 25\n",
      "No. of unique site: 150\n",
      "No. of site months: 18192\n",
      "Unique MODIS_PFT: ['SA' 'ENF' 'GRA' 'CRO' 'DBF' 'EBF' 'Other' 'MF' 'SH']\n"
     ]
    },
    {
     "name": "stderr",
     "output_type": "stream",
     "text": [
      "[11:10:23] task [xgboost.dask]:tcp://10.0.7.89:33706 got new rank 0\n"
     ]
    },
    {
     "name": "stdout",
     "output_type": "stream",
     "text": [
      "training accu.: 1.27\n",
      "saving to .../global/home/users/yanghuikang/projects/upscale/saved_models/ensemble_v1_2/xgboost_ST_CFE_DT_ensemble_25.json\n",
      "time lapse ... 9 seconds\n",
      "ensemble 26\n",
      "No. of unique site: 150\n",
      "No. of site months: 18745\n",
      "Unique MODIS_PFT: ['MF' 'CRO' 'SH' 'SA' 'DBF' 'ENF' 'GRA' 'EBF' 'Other']\n"
     ]
    },
    {
     "name": "stderr",
     "output_type": "stream",
     "text": [
      "[11:10:33] task [xgboost.dask]:tcp://10.0.7.89:33706 got new rank 0\n"
     ]
    },
    {
     "name": "stdout",
     "output_type": "stream",
     "text": [
      "training accu.: 1.22\n",
      "saving to .../global/home/users/yanghuikang/projects/upscale/saved_models/ensemble_v1_2/xgboost_ST_CFE_DT_ensemble_26.json\n",
      "time lapse ... 9 seconds\n",
      "ensemble 27\n",
      "No. of unique site: 152\n",
      "No. of site months: 18480\n",
      "Unique MODIS_PFT: ['SA' 'CRO' 'GRA' 'DBF' 'EBF' 'MF' 'ENF' 'Other' 'SH']\n"
     ]
    },
    {
     "name": "stderr",
     "output_type": "stream",
     "text": [
      "[11:10:42] task [xgboost.dask]:tcp://10.0.7.89:33706 got new rank 0\n"
     ]
    },
    {
     "name": "stdout",
     "output_type": "stream",
     "text": [
      "training accu.: 1.30\n",
      "saving to .../global/home/users/yanghuikang/projects/upscale/saved_models/ensemble_v1_2/xgboost_ST_CFE_DT_ensemble_27.json\n",
      "time lapse ... 9 seconds\n",
      "ensemble 28\n",
      "No. of unique site: 142\n",
      "No. of site months: 18364\n",
      "Unique MODIS_PFT: ['SA' 'CRO' 'GRA' 'SH' 'ENF' 'MF' 'DBF' 'EBF' 'Other']\n"
     ]
    },
    {
     "name": "stderr",
     "output_type": "stream",
     "text": [
      "[11:10:52] task [xgboost.dask]:tcp://10.0.7.89:33706 got new rank 0\n"
     ]
    },
    {
     "name": "stdout",
     "output_type": "stream",
     "text": [
      "training accu.: 1.21\n",
      "saving to .../global/home/users/yanghuikang/projects/upscale/saved_models/ensemble_v1_2/xgboost_ST_CFE_DT_ensemble_28.json\n",
      "time lapse ... 9 seconds\n",
      "ensemble 29\n",
      "No. of unique site: 147\n",
      "No. of site months: 16816\n",
      "Unique MODIS_PFT: ['MF' 'SA' 'EBF' 'GRA' 'ENF' 'Other' 'CRO' 'DBF' 'SH']\n"
     ]
    },
    {
     "name": "stderr",
     "output_type": "stream",
     "text": [
      "[11:11:02] task [xgboost.dask]:tcp://10.0.7.89:33706 got new rank 0\n"
     ]
    },
    {
     "name": "stdout",
     "output_type": "stream",
     "text": [
      "training accu.: 1.29\n",
      "saving to .../global/home/users/yanghuikang/projects/upscale/saved_models/ensemble_v1_2/xgboost_ST_CFE_DT_ensemble_29.json\n",
      "time lapse ... 8 seconds\n",
      "reference model\n"
     ]
    },
    {
     "name": "stderr",
     "output_type": "stream",
     "text": [
      "[11:11:11] task [xgboost.dask]:tcp://10.0.7.89:33706 got new rank 0\n"
     ]
    },
    {
     "name": "stdout",
     "output_type": "stream",
     "text": [
      "training accu.: 1.42\n",
      "saving to .../global/home/users/yanghuikang/projects/upscale/saved_models/ensemble_v1_2/xgboost_ST_CFE_DT_reference.json\n",
      "time lapse ... 8 seconds\n",
      "CPU times: user 3min 1s, sys: 41.8 s, total: 3min 43s\n",
      "Wall time: 19min 34s\n"
     ]
    }
   ],
   "source": [
    "%%time\n",
    "out_path = '/global/home/users/yanghuikang/projects/upscale/saved_models/ensemble_v1_2/'\n",
    "\n",
    "for config in config_list:\n",
    "    model_name = config['name']\n",
    "    print('\\n'+model_name)\n",
    "    \n",
    "    # create 30 ensemble models\n",
    "    for i,value in enumerate(random_list):\n",
    "        print('ensemble {}'.format(i))\n",
    "        outname = out_path+'xgboost_'+model_name+'_ensemble_'+str(i)+'.json'\n",
    "        data_train = getBootstrap(train_st,value)\n",
    "        saveModel(data_train, config, outname)\n",
    "        \n",
    "        # break\n",
    "    \n",
    "    # create a reference model (all samples used for training)\n",
    "    print('reference model')\n",
    "    outname = out_path+'xgboost_'+model_name+'_reference.json'\n",
    "    saveModel(train_st, config, outname)\n",
    "    \n",
    "    # break"
   ]
  },
  {
   "cell_type": "code",
   "execution_count": null,
   "metadata": {},
   "outputs": [],
   "source": []
  }
 ],
 "metadata": {
  "kernelspec": {
   "display_name": "ml-new",
   "language": "python",
   "name": "ml-new"
  },
  "language_info": {
   "codemirror_mode": {
    "name": "ipython",
    "version": 3
   },
   "file_extension": ".py",
   "mimetype": "text/x-python",
   "name": "python",
   "nbconvert_exporter": "python",
   "pygments_lexer": "ipython3",
   "version": "3.10.2"
  }
 },
 "nbformat": 4,
 "nbformat_minor": 2
}
